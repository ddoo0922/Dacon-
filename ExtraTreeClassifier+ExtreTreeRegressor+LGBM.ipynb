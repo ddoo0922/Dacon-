{
  "cells": [
    {
      "cell_type": "markdown",
      "metadata": {
        "id": "view-in-github",
        "colab_type": "text"
      },
      "source": [
        "<a href=\"https://colab.research.google.com/github/ddoo0922/Dacon_Nerdiness/blob/main/ExtraTreeClassifier%2BExtreTreeRegressor%2BLGBM.ipynb\" target=\"_parent\"><img src=\"https://colab.research.google.com/assets/colab-badge.svg\" alt=\"Open In Colab\"/></a>"
      ]
    },
    {
      "cell_type": "code",
      "execution_count": null,
      "id": "8b26b75a",
      "metadata": {
        "id": "8b26b75a"
      },
      "outputs": [],
      "source": [
        "#import libraries\n",
        "\n",
        "import pandas as pd\n",
        "import seaborn as sns\n",
        "import matplotlib.pyplot as plt\n",
        "import numpy as np \n",
        "\n",
        "from sklearn.impute import KNNImputer\n",
        "\n",
        "\n",
        "from string import ascii_lowercase\n",
        "from itertools import combinations\n",
        "from sklearn.preprocessing import OneHotEncoder\n",
        "\n",
        "from sklearn.ensemble import RandomForestClassifier\n",
        "from lightgbm import LGBMClassifier\n",
        "from sklearn.ensemble import  GradientBoostingClassifier\n",
        "import lightgbm as lgb\n",
        "\n",
        "from sklearn.ensemble import VotingClassifier\n",
        "from sklearn.model_selection import KFold\n",
        "from sklearn.model_selection import cross_val_score"
      ]
    },
    {
      "cell_type": "code",
      "execution_count": null,
      "id": "9b10d64c",
      "metadata": {
        "id": "9b10d64c"
      },
      "outputs": [],
      "source": [
        "#Data Load\n",
        "train = pd.read_csv('train.csv')\n",
        "test = pd.read_csv('test.csv')\n",
        "submission = pd.read_csv('sample_submission.csv')"
      ]
    },
    {
      "cell_type": "markdown",
      "id": "698114df",
      "metadata": {
        "id": "698114df"
      },
      "source": [
        "# Q"
      ]
    },
    {
      "cell_type": "code",
      "execution_count": null,
      "id": "19a72b57",
      "metadata": {
        "id": "19a72b57",
        "outputId": "583fc77e-c63b-47e8-f64b-24cdb3380c7e"
      },
      "outputs": [
        {
          "data": {
            "text/html": [
              "<div>\n",
              "<style scoped>\n",
              "    .dataframe tbody tr th:only-of-type {\n",
              "        vertical-align: middle;\n",
              "    }\n",
              "\n",
              "    .dataframe tbody tr th {\n",
              "        vertical-align: top;\n",
              "    }\n",
              "\n",
              "    .dataframe thead th {\n",
              "        text-align: right;\n",
              "    }\n",
              "</style>\n",
              "<table border=\"1\" class=\"dataframe\">\n",
              "  <thead>\n",
              "    <tr style=\"text-align: right;\">\n",
              "      <th></th>\n",
              "      <th>index</th>\n",
              "      <th>Q1</th>\n",
              "      <th>Q2</th>\n",
              "      <th>Q3</th>\n",
              "      <th>Q4</th>\n",
              "      <th>Q5</th>\n",
              "      <th>Q6</th>\n",
              "      <th>Q7</th>\n",
              "      <th>Q8</th>\n",
              "      <th>Q9</th>\n",
              "      <th>...</th>\n",
              "      <th>engnat</th>\n",
              "      <th>age</th>\n",
              "      <th>hand</th>\n",
              "      <th>religion</th>\n",
              "      <th>orientation</th>\n",
              "      <th>voted</th>\n",
              "      <th>married</th>\n",
              "      <th>familysize</th>\n",
              "      <th>ASD</th>\n",
              "      <th>nerdiness</th>\n",
              "    </tr>\n",
              "  </thead>\n",
              "  <tbody>\n",
              "    <tr>\n",
              "      <th>0</th>\n",
              "      <td>0</td>\n",
              "      <td>1.0</td>\n",
              "      <td>5.0</td>\n",
              "      <td>5.0</td>\n",
              "      <td>5.0</td>\n",
              "      <td>1.0</td>\n",
              "      <td>4.0</td>\n",
              "      <td>5.0</td>\n",
              "      <td>5.0</td>\n",
              "      <td>1.0</td>\n",
              "      <td>...</td>\n",
              "      <td>1.0</td>\n",
              "      <td>20</td>\n",
              "      <td>2.0</td>\n",
              "      <td>12.0</td>\n",
              "      <td>4.0</td>\n",
              "      <td>2.0</td>\n",
              "      <td>1.0</td>\n",
              "      <td>4.0</td>\n",
              "      <td>2.0</td>\n",
              "      <td>1</td>\n",
              "    </tr>\n",
              "    <tr>\n",
              "      <th>1</th>\n",
              "      <td>1</td>\n",
              "      <td>4.0</td>\n",
              "      <td>4.0</td>\n",
              "      <td>4.0</td>\n",
              "      <td>4.0</td>\n",
              "      <td>4.0</td>\n",
              "      <td>5.0</td>\n",
              "      <td>4.0</td>\n",
              "      <td>4.0</td>\n",
              "      <td>3.0</td>\n",
              "      <td>...</td>\n",
              "      <td>1.0</td>\n",
              "      <td>49</td>\n",
              "      <td>1.0</td>\n",
              "      <td>2.0</td>\n",
              "      <td>1.0</td>\n",
              "      <td>1.0</td>\n",
              "      <td>2.0</td>\n",
              "      <td>4.0</td>\n",
              "      <td>2.0</td>\n",
              "      <td>1</td>\n",
              "    </tr>\n",
              "    <tr>\n",
              "      <th>2</th>\n",
              "      <td>2</td>\n",
              "      <td>4.0</td>\n",
              "      <td>5.0</td>\n",
              "      <td>5.0</td>\n",
              "      <td>4.0</td>\n",
              "      <td>3.0</td>\n",
              "      <td>5.0</td>\n",
              "      <td>5.0</td>\n",
              "      <td>5.0</td>\n",
              "      <td>4.0</td>\n",
              "      <td>...</td>\n",
              "      <td>2.0</td>\n",
              "      <td>43</td>\n",
              "      <td>1.0</td>\n",
              "      <td>2.0</td>\n",
              "      <td>2.0</td>\n",
              "      <td>2.0</td>\n",
              "      <td>3.0</td>\n",
              "      <td>4.0</td>\n",
              "      <td>2.0</td>\n",
              "      <td>1</td>\n",
              "    </tr>\n",
              "    <tr>\n",
              "      <th>3</th>\n",
              "      <td>3</td>\n",
              "      <td>4.0</td>\n",
              "      <td>4.0</td>\n",
              "      <td>4.0</td>\n",
              "      <td>2.0</td>\n",
              "      <td>4.0</td>\n",
              "      <td>3.0</td>\n",
              "      <td>3.0</td>\n",
              "      <td>5.0</td>\n",
              "      <td>3.0</td>\n",
              "      <td>...</td>\n",
              "      <td>1.0</td>\n",
              "      <td>17</td>\n",
              "      <td>2.0</td>\n",
              "      <td>1.0</td>\n",
              "      <td>1.0</td>\n",
              "      <td>2.0</td>\n",
              "      <td>1.0</td>\n",
              "      <td>2.0</td>\n",
              "      <td>2.0</td>\n",
              "      <td>1</td>\n",
              "    </tr>\n",
              "    <tr>\n",
              "      <th>4</th>\n",
              "      <td>4</td>\n",
              "      <td>4.0</td>\n",
              "      <td>4.0</td>\n",
              "      <td>4.0</td>\n",
              "      <td>4.0</td>\n",
              "      <td>3.0</td>\n",
              "      <td>3.0</td>\n",
              "      <td>4.0</td>\n",
              "      <td>2.0</td>\n",
              "      <td>3.0</td>\n",
              "      <td>...</td>\n",
              "      <td>2.0</td>\n",
              "      <td>18</td>\n",
              "      <td>2.0</td>\n",
              "      <td>12.0</td>\n",
              "      <td>1.0</td>\n",
              "      <td>2.0</td>\n",
              "      <td>1.0</td>\n",
              "      <td>1.0</td>\n",
              "      <td>2.0</td>\n",
              "      <td>0</td>\n",
              "    </tr>\n",
              "  </tbody>\n",
              "</table>\n",
              "<p>5 rows × 70 columns</p>\n",
              "</div>"
            ],
            "text/plain": [
              "   index   Q1   Q2   Q3   Q4   Q5   Q6   Q7   Q8   Q9  ...  engnat  age  hand  \\\n",
              "0      0  1.0  5.0  5.0  5.0  1.0  4.0  5.0  5.0  1.0  ...     1.0   20   2.0   \n",
              "1      1  4.0  4.0  4.0  4.0  4.0  5.0  4.0  4.0  3.0  ...     1.0   49   1.0   \n",
              "2      2  4.0  5.0  5.0  4.0  3.0  5.0  5.0  5.0  4.0  ...     2.0   43   1.0   \n",
              "3      3  4.0  4.0  4.0  2.0  4.0  3.0  3.0  5.0  3.0  ...     1.0   17   2.0   \n",
              "4      4  4.0  4.0  4.0  4.0  3.0  3.0  4.0  2.0  3.0  ...     2.0   18   2.0   \n",
              "\n",
              "   religion  orientation  voted  married  familysize  ASD  nerdiness  \n",
              "0      12.0          4.0    2.0      1.0         4.0  2.0          1  \n",
              "1       2.0          1.0    1.0      2.0         4.0  2.0          1  \n",
              "2       2.0          2.0    2.0      3.0         4.0  2.0          1  \n",
              "3       1.0          1.0    2.0      1.0         2.0  2.0          1  \n",
              "4      12.0          1.0    2.0      1.0         1.0  2.0          0  \n",
              "\n",
              "[5 rows x 70 columns]"
            ]
          },
          "execution_count": 3,
          "metadata": {},
          "output_type": "execute_result"
        }
      ],
      "source": [
        "train.head()"
      ]
    },
    {
      "cell_type": "code",
      "execution_count": null,
      "id": "043c6a7f",
      "metadata": {
        "id": "043c6a7f"
      },
      "outputs": [],
      "source": [
        "Answers = []\n",
        "for i in range(1, 27):\n",
        "    Answers.append('Q' + str(i))\n",
        "    \n",
        "Q_Answers = []\n",
        "for i in range(1, 21):\n",
        "    Q_Answers.append('Q' + str(i))"
      ]
    },
    {
      "cell_type": "code",
      "execution_count": null,
      "id": "805588f0",
      "metadata": {
        "id": "805588f0"
      },
      "outputs": [],
      "source": [
        "def knull(col):\n",
        "    imputer = KNNImputer(n_neighbors=3)\n",
        "    a = imputer.fit_transform(train[col])\n",
        "    train[col] = a"
      ]
    },
    {
      "cell_type": "code",
      "execution_count": null,
      "id": "aba22eea",
      "metadata": {
        "id": "aba22eea"
      },
      "outputs": [],
      "source": [
        "knull(Answers)"
      ]
    },
    {
      "cell_type": "code",
      "execution_count": null,
      "id": "4304e21d",
      "metadata": {
        "id": "4304e21d"
      },
      "outputs": [],
      "source": [
        "# Test data의 결측치 train의 최빈값으로 채우기\n",
        "for i in range(len(Answers)):\n",
        "    test[Answers[i]]=test[Answers[i]].fillna(train[Answers[i]].mode()[0])"
      ]
    },
    {
      "cell_type": "code",
      "execution_count": null,
      "id": "632f1bac",
      "metadata": {
        "id": "632f1bac"
      },
      "outputs": [],
      "source": [
        "# 1~20번 항목 더해서 Q_score, 21~26번 항목 더해서 Qs_score 생성\n",
        "Q_secret= ['Q21', 'Q22', 'Q23', 'Q24', 'Q25', 'Q26']\n",
        "\n",
        "dataset = [train, test]\n",
        "\n",
        "for data in dataset:\n",
        "    data['Q_score'] = data[Q_Answers].sum(axis=1)\n",
        "    data['Qs_score'] = data[Q_secret].sum(axis=1)"
      ]
    },
    {
      "cell_type": "code",
      "execution_count": null,
      "id": "af343c91",
      "metadata": {
        "id": "af343c91"
      },
      "outputs": [],
      "source": [
        "# 마키아벨리즘 테스트(1~20번 항목)에서 T, V, M 컬럼 생성\n",
        "for data in dataset:\n",
        "    data['T'] = data['Q1']+data['Q2']+data['Q3']+data['Q7']+data['Q10']+data['Q12']+data['Q15']+data['Q16'] \n",
        "    data['V'] = data['Q4']+data['Q5']+data['Q8']+data['Q11']+data['Q13']+data['Q20']\n",
        "    data['M'] = data['Q9']+data['Q19']"
      ]
    },
    {
      "cell_type": "code",
      "execution_count": null,
      "id": "da4b4072",
      "metadata": {
        "id": "da4b4072",
        "outputId": "83c9c726-501e-441b-ebfa-8d6d995d5b63"
      },
      "outputs": [
        {
          "name": "stdout",
          "output_type": "stream",
          "text": [
            "0         6.0\n",
            "1         4.0\n",
            "2         9.0\n",
            "3         7.0\n",
            "4         7.0\n",
            "         ... \n",
            "14995     5.0\n",
            "14996     5.0\n",
            "14997     8.0\n",
            "14998    10.0\n",
            "14999     9.0\n",
            "Name: M, Length: 15000, dtype: float64\n",
            "0         8.0\n",
            "1        10.0\n",
            "2         7.0\n",
            "3         9.0\n",
            "4         6.0\n",
            "         ... \n",
            "35447     8.0\n",
            "35448    10.0\n",
            "35449    10.0\n",
            "35450    10.0\n",
            "35451     9.0\n",
            "Name: M, Length: 35452, dtype: float64\n"
          ]
        }
      ],
      "source": [
        "for data in dataset:\n",
        "    print(data['M'])"
      ]
    },
    {
      "cell_type": "code",
      "execution_count": null,
      "id": "61f63c23",
      "metadata": {
        "id": "61f63c23"
      },
      "outputs": [],
      "source": [
        "# 마키아벨리즘 스코어, 분산 피처 생성\n",
        "for data in dataset:\n",
        "    data['Mach_score'] = data[Answers].mean(axis = 1)\n",
        "    data['Mach_var'] = data[Answers].var(axis = 1)"
      ]
    },
    {
      "cell_type": "code",
      "execution_count": null,
      "id": "c915caa6",
      "metadata": {
        "id": "c915caa6",
        "outputId": "bed34ea3-04c9-4ccb-f98b-0ee8c9197c51"
      },
      "outputs": [
        {
          "name": "stderr",
          "output_type": "stream",
          "text": [
            "C:\\Users\\thdal\\AppData\\Local\\Temp/ipykernel_28880/4282676114.py:5: PerformanceWarning: DataFrame is highly fragmented.  This is usually the result of calling `frame.insert` many times, which has poor performance.  Consider joining all columns at once using pd.concat(axis=1) instead.  To get a de-fragmented frame, use `newframe = frame.copy()`\n",
            "  data['mach_%s_dv%s'%(a,b)] = data[a]/data[b]\n"
          ]
        }
      ],
      "source": [
        "# 마키아벨리즘 비율 피처 생성\n",
        "Ancoms = list(combinations(Answers, 2))\n",
        "for data in dataset:\n",
        "    for a,b in Ancoms:\n",
        "        data['mach_%s_dv%s'%(a,b)] = data[a]/data[b]"
      ]
    },
    {
      "cell_type": "code",
      "execution_count": null,
      "id": "dabd88aa",
      "metadata": {
        "id": "dabd88aa"
      },
      "outputs": [],
      "source": [
        "# Q drop\n",
        "for data in dataset:\n",
        "    data.drop([('Q'+str(i) )for i in range(1,27)], axis = 1, inplace = True)"
      ]
    },
    {
      "cell_type": "code",
      "execution_count": null,
      "id": "cf1c3514",
      "metadata": {
        "id": "cf1c3514",
        "outputId": "d6e1b097-0b3d-40c3-c754-5635f0701b25"
      },
      "outputs": [
        {
          "data": {
            "text/html": [
              "<div>\n",
              "<style scoped>\n",
              "    .dataframe tbody tr th:only-of-type {\n",
              "        vertical-align: middle;\n",
              "    }\n",
              "\n",
              "    .dataframe tbody tr th {\n",
              "        vertical-align: top;\n",
              "    }\n",
              "\n",
              "    .dataframe thead th {\n",
              "        text-align: right;\n",
              "    }\n",
              "</style>\n",
              "<table border=\"1\" class=\"dataframe\">\n",
              "  <thead>\n",
              "    <tr style=\"text-align: right;\">\n",
              "      <th></th>\n",
              "      <th>index</th>\n",
              "      <th>country</th>\n",
              "      <th>introelapse</th>\n",
              "      <th>testelapse</th>\n",
              "      <th>surveyelapse</th>\n",
              "      <th>TIPI1</th>\n",
              "      <th>TIPI2</th>\n",
              "      <th>TIPI3</th>\n",
              "      <th>TIPI4</th>\n",
              "      <th>TIPI5</th>\n",
              "      <th>...</th>\n",
              "      <th>mach_Q22_dvQ23</th>\n",
              "      <th>mach_Q22_dvQ24</th>\n",
              "      <th>mach_Q22_dvQ25</th>\n",
              "      <th>mach_Q22_dvQ26</th>\n",
              "      <th>mach_Q23_dvQ24</th>\n",
              "      <th>mach_Q23_dvQ25</th>\n",
              "      <th>mach_Q23_dvQ26</th>\n",
              "      <th>mach_Q24_dvQ25</th>\n",
              "      <th>mach_Q24_dvQ26</th>\n",
              "      <th>mach_Q25_dvQ26</th>\n",
              "    </tr>\n",
              "  </thead>\n",
              "  <tbody>\n",
              "    <tr>\n",
              "      <th>0</th>\n",
              "      <td>0</td>\n",
              "      <td>USA</td>\n",
              "      <td>3</td>\n",
              "      <td>553</td>\n",
              "      <td>6</td>\n",
              "      <td>4.0</td>\n",
              "      <td>3.0</td>\n",
              "      <td>5.0</td>\n",
              "      <td>1.0</td>\n",
              "      <td>3.0</td>\n",
              "      <td>...</td>\n",
              "      <td>5.000000</td>\n",
              "      <td>1.000000</td>\n",
              "      <td>5.0</td>\n",
              "      <td>5.0</td>\n",
              "      <td>0.200000</td>\n",
              "      <td>1.00</td>\n",
              "      <td>1.00</td>\n",
              "      <td>5.0</td>\n",
              "      <td>5.0</td>\n",
              "      <td>1.0</td>\n",
              "    </tr>\n",
              "    <tr>\n",
              "      <th>1</th>\n",
              "      <td>1</td>\n",
              "      <td>USA</td>\n",
              "      <td>5</td>\n",
              "      <td>85</td>\n",
              "      <td>120</td>\n",
              "      <td>4.0</td>\n",
              "      <td>2.0</td>\n",
              "      <td>3.0</td>\n",
              "      <td>5.0</td>\n",
              "      <td>3.0</td>\n",
              "      <td>...</td>\n",
              "      <td>0.200000</td>\n",
              "      <td>0.333333</td>\n",
              "      <td>0.5</td>\n",
              "      <td>0.2</td>\n",
              "      <td>1.666667</td>\n",
              "      <td>2.50</td>\n",
              "      <td>1.00</td>\n",
              "      <td>1.5</td>\n",
              "      <td>0.6</td>\n",
              "      <td>0.4</td>\n",
              "    </tr>\n",
              "    <tr>\n",
              "      <th>2</th>\n",
              "      <td>2</td>\n",
              "      <td>NLD</td>\n",
              "      <td>9</td>\n",
              "      <td>108</td>\n",
              "      <td>100</td>\n",
              "      <td>1.0</td>\n",
              "      <td>2.0</td>\n",
              "      <td>3.0</td>\n",
              "      <td>1.0</td>\n",
              "      <td>5.0</td>\n",
              "      <td>...</td>\n",
              "      <td>0.500000</td>\n",
              "      <td>0.250000</td>\n",
              "      <td>0.5</td>\n",
              "      <td>0.2</td>\n",
              "      <td>0.500000</td>\n",
              "      <td>1.00</td>\n",
              "      <td>0.40</td>\n",
              "      <td>2.0</td>\n",
              "      <td>0.8</td>\n",
              "      <td>0.4</td>\n",
              "    </tr>\n",
              "    <tr>\n",
              "      <th>3</th>\n",
              "      <td>3</td>\n",
              "      <td>USA</td>\n",
              "      <td>2</td>\n",
              "      <td>121</td>\n",
              "      <td>139</td>\n",
              "      <td>3.0</td>\n",
              "      <td>3.0</td>\n",
              "      <td>3.0</td>\n",
              "      <td>4.0</td>\n",
              "      <td>5.0</td>\n",
              "      <td>...</td>\n",
              "      <td>1.333333</td>\n",
              "      <td>1.000000</td>\n",
              "      <td>1.0</td>\n",
              "      <td>2.0</td>\n",
              "      <td>0.750000</td>\n",
              "      <td>0.75</td>\n",
              "      <td>1.50</td>\n",
              "      <td>1.0</td>\n",
              "      <td>2.0</td>\n",
              "      <td>2.0</td>\n",
              "    </tr>\n",
              "    <tr>\n",
              "      <th>4</th>\n",
              "      <td>4</td>\n",
              "      <td>ITA</td>\n",
              "      <td>3</td>\n",
              "      <td>640</td>\n",
              "      <td>216</td>\n",
              "      <td>3.0</td>\n",
              "      <td>3.0</td>\n",
              "      <td>4.0</td>\n",
              "      <td>4.0</td>\n",
              "      <td>4.0</td>\n",
              "      <td>...</td>\n",
              "      <td>0.666667</td>\n",
              "      <td>0.500000</td>\n",
              "      <td>0.5</td>\n",
              "      <td>0.5</td>\n",
              "      <td>0.750000</td>\n",
              "      <td>0.75</td>\n",
              "      <td>0.75</td>\n",
              "      <td>1.0</td>\n",
              "      <td>1.0</td>\n",
              "      <td>1.0</td>\n",
              "    </tr>\n",
              "  </tbody>\n",
              "</table>\n",
              "<p>5 rows × 376 columns</p>\n",
              "</div>"
            ],
            "text/plain": [
              "   index country  introelapse  testelapse  surveyelapse  TIPI1  TIPI2  TIPI3  \\\n",
              "0      0     USA            3         553             6    4.0    3.0    5.0   \n",
              "1      1     USA            5          85           120    4.0    2.0    3.0   \n",
              "2      2     NLD            9         108           100    1.0    2.0    3.0   \n",
              "3      3     USA            2         121           139    3.0    3.0    3.0   \n",
              "4      4     ITA            3         640           216    3.0    3.0    4.0   \n",
              "\n",
              "   TIPI4  TIPI5  ...  mach_Q22_dvQ23  mach_Q22_dvQ24  mach_Q22_dvQ25  \\\n",
              "0    1.0    3.0  ...        5.000000        1.000000             5.0   \n",
              "1    5.0    3.0  ...        0.200000        0.333333             0.5   \n",
              "2    1.0    5.0  ...        0.500000        0.250000             0.5   \n",
              "3    4.0    5.0  ...        1.333333        1.000000             1.0   \n",
              "4    4.0    4.0  ...        0.666667        0.500000             0.5   \n",
              "\n",
              "   mach_Q22_dvQ26  mach_Q23_dvQ24  mach_Q23_dvQ25  mach_Q23_dvQ26  \\\n",
              "0             5.0        0.200000            1.00            1.00   \n",
              "1             0.2        1.666667            2.50            1.00   \n",
              "2             0.2        0.500000            1.00            0.40   \n",
              "3             2.0        0.750000            0.75            1.50   \n",
              "4             0.5        0.750000            0.75            0.75   \n",
              "\n",
              "   mach_Q24_dvQ25  mach_Q24_dvQ26  mach_Q25_dvQ26  \n",
              "0             5.0             5.0             1.0  \n",
              "1             1.5             0.6             0.4  \n",
              "2             2.0             0.8             0.4  \n",
              "3             1.0             2.0             2.0  \n",
              "4             1.0             1.0             1.0  \n",
              "\n",
              "[5 rows x 376 columns]"
            ]
          },
          "execution_count": 14,
          "metadata": {},
          "output_type": "execute_result"
        }
      ],
      "source": [
        "train.head()"
      ]
    },
    {
      "cell_type": "markdown",
      "id": "54028922",
      "metadata": {
        "id": "54028922"
      },
      "source": [
        "# TIPI"
      ]
    },
    {
      "cell_type": "code",
      "execution_count": null,
      "id": "62342f03",
      "metadata": {
        "id": "62342f03"
      },
      "outputs": [],
      "source": [
        "TIPI = []\n",
        "for i in range(1,11):\n",
        "    TIPI.append('TIPI'+str(i))"
      ]
    },
    {
      "cell_type": "code",
      "execution_count": null,
      "id": "8d745ebb",
      "metadata": {
        "id": "8d745ebb"
      },
      "outputs": [],
      "source": [
        "knull(TIPI)"
      ]
    },
    {
      "cell_type": "code",
      "execution_count": null,
      "id": "816a311d",
      "metadata": {
        "id": "816a311d",
        "outputId": "116989e4-5d53-4966-e3bd-1ab79b8ae2a4"
      },
      "outputs": [
        {
          "data": {
            "text/plain": [
              "0        3.0\n",
              "1        2.0\n",
              "2        2.0\n",
              "3        3.0\n",
              "4        2.0\n",
              "        ... \n",
              "14995    3.0\n",
              "14996    2.0\n",
              "14997    1.0\n",
              "14998    1.0\n",
              "14999    2.0\n",
              "Name: TIPI10, Length: 15000, dtype: float64"
            ]
          },
          "execution_count": 17,
          "metadata": {},
          "output_type": "execute_result"
        }
      ],
      "source": [
        "train['TIPI10']"
      ]
    },
    {
      "cell_type": "code",
      "execution_count": null,
      "id": "c6a1fc4f",
      "metadata": {
        "id": "c6a1fc4f"
      },
      "outputs": [],
      "source": [
        "for i in range(len(TIPI)):\n",
        "    test[TIPI[i]]=test[TIPI[i]].fillna(train[TIPI[i]].mode()[0])"
      ]
    },
    {
      "cell_type": "code",
      "execution_count": null,
      "id": "cdc9b853",
      "metadata": {
        "id": "cdc9b853"
      },
      "outputs": [],
      "source": [
        "# tp1~10 항목 사용해 Ex, Ag, Con, Es, Op 컬럼 만들기\n",
        "\n",
        "train['Extraverted'] = train['TIPI1'] - train['TIPI6']\n",
        "train['Warm'] = train['TIPI7']-train['TIPI2']\n",
        "train['Dependable'] = train['TIPI3']-train['TIPI8']\n",
        "train['Calm'] = train['TIPI9']-train['TIPI4']\n",
        "train['OpenMind'] = train['TIPI5']-train['TIPI10']\n",
        "\n",
        "test['Extraverted'] = test['TIPI1'] - test['TIPI6']\n",
        "test['Warm'] = test['TIPI7']-test['TIPI2']\n",
        "test['Dependable'] = test['TIPI3']-test['TIPI8']\n",
        "test['Calm'] = test['TIPI9']-test['TIPI4']\n",
        "test['OpenMind'] = test['TIPI5']-test['TIPI10']"
      ]
    },
    {
      "cell_type": "code",
      "execution_count": null,
      "id": "ee820683",
      "metadata": {
        "id": "ee820683"
      },
      "outputs": [],
      "source": [
        "# tp 비율 피처 생성\n",
        "tpcoms = list(combinations(TIPI, 2))\n",
        "\n",
        "for data in dataset:\n",
        "    for a,b in tpcoms:\n",
        "        data['%s_dv_%s'%(a,b)] = data[a]/data[b]"
      ]
    },
    {
      "cell_type": "code",
      "execution_count": null,
      "id": "86349d6d",
      "metadata": {
        "id": "86349d6d"
      },
      "outputs": [],
      "source": [
        "train.drop([('TIPI'+str(i)) for i in range(1,10)], axis=1, inplace = True)\n",
        "train.drop('TIPI10', axis = 1, inplace = True)\n",
        "\n",
        "test.drop([('TIPI'+str(i)) for i in range(1,10)], axis=1, inplace = True)\n",
        "test.drop('TIPI10', axis = 1, inplace = True)"
      ]
    },
    {
      "cell_type": "code",
      "execution_count": null,
      "id": "fbb0ad02",
      "metadata": {
        "id": "fbb0ad02",
        "outputId": "60f31b1a-3a10-4d4c-be78-a278534c750c"
      },
      "outputs": [
        {
          "data": {
            "text/html": [
              "<div>\n",
              "<style scoped>\n",
              "    .dataframe tbody tr th:only-of-type {\n",
              "        vertical-align: middle;\n",
              "    }\n",
              "\n",
              "    .dataframe tbody tr th {\n",
              "        vertical-align: top;\n",
              "    }\n",
              "\n",
              "    .dataframe thead th {\n",
              "        text-align: right;\n",
              "    }\n",
              "</style>\n",
              "<table border=\"1\" class=\"dataframe\">\n",
              "  <thead>\n",
              "    <tr style=\"text-align: right;\">\n",
              "      <th></th>\n",
              "      <th>index</th>\n",
              "      <th>country</th>\n",
              "      <th>introelapse</th>\n",
              "      <th>testelapse</th>\n",
              "      <th>surveyelapse</th>\n",
              "      <th>VCL1</th>\n",
              "      <th>VCL2</th>\n",
              "      <th>VCL3</th>\n",
              "      <th>VCL4</th>\n",
              "      <th>VCL5</th>\n",
              "      <th>...</th>\n",
              "      <th>TIPI6_dv_TIPI7</th>\n",
              "      <th>TIPI6_dv_TIPI8</th>\n",
              "      <th>TIPI6_dv_TIPI9</th>\n",
              "      <th>TIPI6_dv_TIPI10</th>\n",
              "      <th>TIPI7_dv_TIPI8</th>\n",
              "      <th>TIPI7_dv_TIPI9</th>\n",
              "      <th>TIPI7_dv_TIPI10</th>\n",
              "      <th>TIPI8_dv_TIPI9</th>\n",
              "      <th>TIPI8_dv_TIPI10</th>\n",
              "      <th>TIPI9_dv_TIPI10</th>\n",
              "    </tr>\n",
              "  </thead>\n",
              "  <tbody>\n",
              "    <tr>\n",
              "      <th>0</th>\n",
              "      <td>0</td>\n",
              "      <td>USA</td>\n",
              "      <td>3</td>\n",
              "      <td>553</td>\n",
              "      <td>6</td>\n",
              "      <td>1</td>\n",
              "      <td>1</td>\n",
              "      <td>0</td>\n",
              "      <td>1</td>\n",
              "      <td>1</td>\n",
              "      <td>...</td>\n",
              "      <td>1.000000</td>\n",
              "      <td>1.666667</td>\n",
              "      <td>1.000000</td>\n",
              "      <td>1.666667</td>\n",
              "      <td>1.666667</td>\n",
              "      <td>1.000000</td>\n",
              "      <td>1.666667</td>\n",
              "      <td>0.600000</td>\n",
              "      <td>1.000000</td>\n",
              "      <td>1.666667</td>\n",
              "    </tr>\n",
              "    <tr>\n",
              "      <th>1</th>\n",
              "      <td>1</td>\n",
              "      <td>USA</td>\n",
              "      <td>5</td>\n",
              "      <td>85</td>\n",
              "      <td>120</td>\n",
              "      <td>1</td>\n",
              "      <td>1</td>\n",
              "      <td>1</td>\n",
              "      <td>1</td>\n",
              "      <td>1</td>\n",
              "      <td>...</td>\n",
              "      <td>0.400000</td>\n",
              "      <td>2.000000</td>\n",
              "      <td>1.000000</td>\n",
              "      <td>1.000000</td>\n",
              "      <td>5.000000</td>\n",
              "      <td>2.500000</td>\n",
              "      <td>2.500000</td>\n",
              "      <td>0.500000</td>\n",
              "      <td>0.500000</td>\n",
              "      <td>1.000000</td>\n",
              "    </tr>\n",
              "    <tr>\n",
              "      <th>2</th>\n",
              "      <td>2</td>\n",
              "      <td>NLD</td>\n",
              "      <td>9</td>\n",
              "      <td>108</td>\n",
              "      <td>100</td>\n",
              "      <td>1</td>\n",
              "      <td>1</td>\n",
              "      <td>0</td>\n",
              "      <td>1</td>\n",
              "      <td>1</td>\n",
              "      <td>...</td>\n",
              "      <td>1.666667</td>\n",
              "      <td>1.250000</td>\n",
              "      <td>1.000000</td>\n",
              "      <td>2.500000</td>\n",
              "      <td>0.750000</td>\n",
              "      <td>0.600000</td>\n",
              "      <td>1.500000</td>\n",
              "      <td>0.800000</td>\n",
              "      <td>2.000000</td>\n",
              "      <td>2.500000</td>\n",
              "    </tr>\n",
              "    <tr>\n",
              "      <th>3</th>\n",
              "      <td>3</td>\n",
              "      <td>USA</td>\n",
              "      <td>2</td>\n",
              "      <td>121</td>\n",
              "      <td>139</td>\n",
              "      <td>1</td>\n",
              "      <td>1</td>\n",
              "      <td>0</td>\n",
              "      <td>1</td>\n",
              "      <td>1</td>\n",
              "      <td>...</td>\n",
              "      <td>0.750000</td>\n",
              "      <td>0.750000</td>\n",
              "      <td>1.000000</td>\n",
              "      <td>1.000000</td>\n",
              "      <td>1.000000</td>\n",
              "      <td>1.333333</td>\n",
              "      <td>1.333333</td>\n",
              "      <td>1.333333</td>\n",
              "      <td>1.333333</td>\n",
              "      <td>1.000000</td>\n",
              "    </tr>\n",
              "    <tr>\n",
              "      <th>4</th>\n",
              "      <td>4</td>\n",
              "      <td>ITA</td>\n",
              "      <td>3</td>\n",
              "      <td>640</td>\n",
              "      <td>216</td>\n",
              "      <td>1</td>\n",
              "      <td>1</td>\n",
              "      <td>0</td>\n",
              "      <td>1</td>\n",
              "      <td>1</td>\n",
              "      <td>...</td>\n",
              "      <td>1.333333</td>\n",
              "      <td>1.000000</td>\n",
              "      <td>1.333333</td>\n",
              "      <td>2.000000</td>\n",
              "      <td>0.750000</td>\n",
              "      <td>1.000000</td>\n",
              "      <td>1.500000</td>\n",
              "      <td>1.333333</td>\n",
              "      <td>2.000000</td>\n",
              "      <td>1.500000</td>\n",
              "    </tr>\n",
              "  </tbody>\n",
              "</table>\n",
              "<p>5 rows × 416 columns</p>\n",
              "</div>"
            ],
            "text/plain": [
              "   index country  introelapse  testelapse  surveyelapse  VCL1  VCL2  VCL3  \\\n",
              "0      0     USA            3         553             6     1     1     0   \n",
              "1      1     USA            5          85           120     1     1     1   \n",
              "2      2     NLD            9         108           100     1     1     0   \n",
              "3      3     USA            2         121           139     1     1     0   \n",
              "4      4     ITA            3         640           216     1     1     0   \n",
              "\n",
              "   VCL4  VCL5  ...  TIPI6_dv_TIPI7  TIPI6_dv_TIPI8  TIPI6_dv_TIPI9  \\\n",
              "0     1     1  ...        1.000000        1.666667        1.000000   \n",
              "1     1     1  ...        0.400000        2.000000        1.000000   \n",
              "2     1     1  ...        1.666667        1.250000        1.000000   \n",
              "3     1     1  ...        0.750000        0.750000        1.000000   \n",
              "4     1     1  ...        1.333333        1.000000        1.333333   \n",
              "\n",
              "   TIPI6_dv_TIPI10  TIPI7_dv_TIPI8  TIPI7_dv_TIPI9  TIPI7_dv_TIPI10  \\\n",
              "0         1.666667        1.666667        1.000000         1.666667   \n",
              "1         1.000000        5.000000        2.500000         2.500000   \n",
              "2         2.500000        0.750000        0.600000         1.500000   \n",
              "3         1.000000        1.000000        1.333333         1.333333   \n",
              "4         2.000000        0.750000        1.000000         1.500000   \n",
              "\n",
              "   TIPI8_dv_TIPI9  TIPI8_dv_TIPI10  TIPI9_dv_TIPI10  \n",
              "0        0.600000         1.000000         1.666667  \n",
              "1        0.500000         0.500000         1.000000  \n",
              "2        0.800000         2.000000         2.500000  \n",
              "3        1.333333         1.333333         1.000000  \n",
              "4        1.333333         2.000000         1.500000  \n",
              "\n",
              "[5 rows x 416 columns]"
            ]
          },
          "execution_count": 22,
          "metadata": {},
          "output_type": "execute_result"
        }
      ],
      "source": [
        "train.head()"
      ]
    },
    {
      "cell_type": "markdown",
      "id": "f7762a99",
      "metadata": {
        "id": "f7762a99"
      },
      "source": [
        "# Index"
      ]
    },
    {
      "cell_type": "code",
      "execution_count": null,
      "id": "0014e74d",
      "metadata": {
        "id": "0014e74d"
      },
      "outputs": [],
      "source": [
        "#index drop\n",
        "index = test['index']\n",
        "for data in dataset:\n",
        "    data.drop('index', axis=1, inplace=True)"
      ]
    },
    {
      "cell_type": "markdown",
      "id": "7e2b60a3",
      "metadata": {
        "id": "7e2b60a3"
      },
      "source": [
        "# Country"
      ]
    },
    {
      "cell_type": "code",
      "execution_count": null,
      "id": "2de3a829",
      "metadata": {
        "id": "2de3a829"
      },
      "outputs": [],
      "source": [
        "def country_label(data):\n",
        "    nara = data['country'].copy()\n",
        "    nara_val = nara.value_counts()\n",
        "    \n",
        "    a = [] \n",
        "    b = []\n",
        "    c = [] \n",
        "    d = []\n",
        "    e = []\n",
        "\n",
        "    \n",
        "    for i in range(len(nara_val)):\n",
        "        if nara_val.values[i] <= 10 : a.append(nara_val.index[i])\n",
        "        elif 100>nara_val.values[i] >10 : b.append(nara_val.index[i])\n",
        "        elif 500>nara_val.values[i] >= 100 :c.append(nara_val.index[i])\n",
        "        elif 5000>nara_val.values[i] >= 500 :  d.append(nara_val.index[i])\n",
        "        elif nara_val.values[i] >= 5000 : e.append(nara_val.index[i])\n",
        "\n",
        "    for i in range(len(nara)):\n",
        "        if nara[i] in a: nara[i]=0\n",
        "        if nara[i] in b: nara[i]=1\n",
        "        if nara[i] in c: nara[i]=2\n",
        "        if nara[i] in d: nara[i]=3\n",
        "        if nara[i] in e: nara[i]=4\n",
        "\n",
        "        \n",
        "    nara.fillna(0, inplace = True)\n",
        "    return nara"
      ]
    },
    {
      "cell_type": "code",
      "execution_count": null,
      "id": "30abb344",
      "metadata": {
        "id": "30abb344"
      },
      "outputs": [],
      "source": [
        "train['nara'] = country_label(train)\n",
        "test['nara'] = country_label(test)"
      ]
    },
    {
      "cell_type": "code",
      "execution_count": null,
      "id": "ba473050",
      "metadata": {
        "id": "ba473050",
        "outputId": "95b953c8-18dc-49a5-95bd-24fc0bfb1941"
      },
      "outputs": [
        {
          "data": {
            "text/plain": [
              "0        4\n",
              "1        4\n",
              "2        2\n",
              "3        4\n",
              "4        2\n",
              "        ..\n",
              "14995    4\n",
              "14996    4\n",
              "14997    4\n",
              "14998    4\n",
              "14999    2\n",
              "Name: nara, Length: 15000, dtype: int64"
            ]
          },
          "execution_count": 26,
          "metadata": {},
          "output_type": "execute_result"
        }
      ],
      "source": [
        "train['nara']"
      ]
    },
    {
      "cell_type": "code",
      "execution_count": null,
      "id": "342ac98b",
      "metadata": {
        "id": "342ac98b"
      },
      "outputs": [],
      "source": [
        "train = train.drop(columns=['country'], axis=1)\n",
        "test = test.drop(columns=['country'], axis=1)"
      ]
    },
    {
      "cell_type": "markdown",
      "id": "e66e748f",
      "metadata": {
        "id": "e66e748f"
      },
      "source": [
        "# VCL"
      ]
    },
    {
      "cell_type": "code",
      "execution_count": null,
      "id": "0deb76d3",
      "metadata": {
        "id": "0deb76d3"
      },
      "outputs": [],
      "source": [
        "VCL = []\n",
        "for i in range(1,17):\n",
        "    VCL.append('VCL'+str(i))"
      ]
    },
    {
      "cell_type": "code",
      "execution_count": null,
      "id": "2e12728d",
      "metadata": {
        "id": "2e12728d"
      },
      "outputs": [],
      "source": [
        "#작성자의 영어 실력\n",
        "\n",
        "# 실제로 있고 진짜 쉬운단어\n",
        "VCL_1 = ['VCL1','VCL4','VCL5','VCL10','VCL14','VCL16']\n",
        "# 실제로 있는데 어려운 단어\n",
        "VCL_2 = ['VCL2','VCL3','VCL7','VCL8','VCL11','VCL13','VCL14']\n",
        "# 세상에 없는 단어\n",
        "VCL_3 = ['VCL6','VCL9','VCL12'] # 0 ~ 3 이 나올텐데 3에 가까울 수록 nerdiness일 확률 높다?"
      ]
    },
    {
      "cell_type": "code",
      "execution_count": null,
      "id": "06e4477c",
      "metadata": {
        "id": "06e4477c"
      },
      "outputs": [],
      "source": [
        "dataset = [train,test]\n",
        "for data in dataset:\n",
        "    data['VCL_score'] = data[VCL].sum(axis=1)\n",
        "    data['VCL_1_score'] = data[VCL_1].sum(axis=1)\n",
        "    data['VCL_2_score'] = data[VCL_2].sum(axis=1)\n",
        "    data['VCL_3_score'] = data[VCL_3].sum(axis=1)\n",
        "    data.drop([('VCL'+str(i) )for i in range(1,17)], axis = 1, inplace = True)"
      ]
    },
    {
      "cell_type": "code",
      "execution_count": null,
      "id": "f948c6d4",
      "metadata": {
        "id": "f948c6d4",
        "outputId": "cc510810-9cd4-405c-abe6-47b77d244f81"
      },
      "outputs": [
        {
          "data": {
            "text/html": [
              "<div>\n",
              "<style scoped>\n",
              "    .dataframe tbody tr th:only-of-type {\n",
              "        vertical-align: middle;\n",
              "    }\n",
              "\n",
              "    .dataframe tbody tr th {\n",
              "        vertical-align: top;\n",
              "    }\n",
              "\n",
              "    .dataframe thead th {\n",
              "        text-align: right;\n",
              "    }\n",
              "</style>\n",
              "<table border=\"1\" class=\"dataframe\">\n",
              "  <thead>\n",
              "    <tr style=\"text-align: right;\">\n",
              "      <th></th>\n",
              "      <th>introelapse</th>\n",
              "      <th>testelapse</th>\n",
              "      <th>surveyelapse</th>\n",
              "      <th>education</th>\n",
              "      <th>urban</th>\n",
              "      <th>gender</th>\n",
              "      <th>engnat</th>\n",
              "      <th>age</th>\n",
              "      <th>hand</th>\n",
              "      <th>religion</th>\n",
              "      <th>...</th>\n",
              "      <th>TIPI7_dv_TIPI9</th>\n",
              "      <th>TIPI7_dv_TIPI10</th>\n",
              "      <th>TIPI8_dv_TIPI9</th>\n",
              "      <th>TIPI8_dv_TIPI10</th>\n",
              "      <th>TIPI9_dv_TIPI10</th>\n",
              "      <th>nara</th>\n",
              "      <th>VCL_score</th>\n",
              "      <th>VCL_1_score</th>\n",
              "      <th>VCL_2_score</th>\n",
              "      <th>VCL_3_score</th>\n",
              "    </tr>\n",
              "  </thead>\n",
              "  <tbody>\n",
              "    <tr>\n",
              "      <th>0</th>\n",
              "      <td>3</td>\n",
              "      <td>553</td>\n",
              "      <td>6</td>\n",
              "      <td>2.0</td>\n",
              "      <td>1</td>\n",
              "      <td>3.0</td>\n",
              "      <td>1.0</td>\n",
              "      <td>20</td>\n",
              "      <td>2.0</td>\n",
              "      <td>12.0</td>\n",
              "      <td>...</td>\n",
              "      <td>1.000000</td>\n",
              "      <td>1.666667</td>\n",
              "      <td>0.600000</td>\n",
              "      <td>1.000000</td>\n",
              "      <td>1.666667</td>\n",
              "      <td>4</td>\n",
              "      <td>8</td>\n",
              "      <td>6</td>\n",
              "      <td>2</td>\n",
              "      <td>0</td>\n",
              "    </tr>\n",
              "    <tr>\n",
              "      <th>1</th>\n",
              "      <td>5</td>\n",
              "      <td>85</td>\n",
              "      <td>120</td>\n",
              "      <td>4.0</td>\n",
              "      <td>2</td>\n",
              "      <td>2.0</td>\n",
              "      <td>1.0</td>\n",
              "      <td>49</td>\n",
              "      <td>1.0</td>\n",
              "      <td>2.0</td>\n",
              "      <td>...</td>\n",
              "      <td>2.500000</td>\n",
              "      <td>2.500000</td>\n",
              "      <td>0.500000</td>\n",
              "      <td>0.500000</td>\n",
              "      <td>1.000000</td>\n",
              "      <td>4</td>\n",
              "      <td>11</td>\n",
              "      <td>6</td>\n",
              "      <td>5</td>\n",
              "      <td>0</td>\n",
              "    </tr>\n",
              "    <tr>\n",
              "      <th>2</th>\n",
              "      <td>9</td>\n",
              "      <td>108</td>\n",
              "      <td>100</td>\n",
              "      <td>2.0</td>\n",
              "      <td>1</td>\n",
              "      <td>1.0</td>\n",
              "      <td>2.0</td>\n",
              "      <td>43</td>\n",
              "      <td>1.0</td>\n",
              "      <td>2.0</td>\n",
              "      <td>...</td>\n",
              "      <td>0.600000</td>\n",
              "      <td>1.500000</td>\n",
              "      <td>0.800000</td>\n",
              "      <td>2.000000</td>\n",
              "      <td>2.500000</td>\n",
              "      <td>2</td>\n",
              "      <td>11</td>\n",
              "      <td>6</td>\n",
              "      <td>5</td>\n",
              "      <td>0</td>\n",
              "    </tr>\n",
              "    <tr>\n",
              "      <th>3</th>\n",
              "      <td>2</td>\n",
              "      <td>121</td>\n",
              "      <td>139</td>\n",
              "      <td>1.0</td>\n",
              "      <td>3</td>\n",
              "      <td>1.0</td>\n",
              "      <td>1.0</td>\n",
              "      <td>17</td>\n",
              "      <td>2.0</td>\n",
              "      <td>1.0</td>\n",
              "      <td>...</td>\n",
              "      <td>1.333333</td>\n",
              "      <td>1.333333</td>\n",
              "      <td>1.333333</td>\n",
              "      <td>1.333333</td>\n",
              "      <td>1.000000</td>\n",
              "      <td>4</td>\n",
              "      <td>9</td>\n",
              "      <td>6</td>\n",
              "      <td>3</td>\n",
              "      <td>0</td>\n",
              "    </tr>\n",
              "    <tr>\n",
              "      <th>4</th>\n",
              "      <td>3</td>\n",
              "      <td>640</td>\n",
              "      <td>216</td>\n",
              "      <td>1.0</td>\n",
              "      <td>2</td>\n",
              "      <td>2.0</td>\n",
              "      <td>2.0</td>\n",
              "      <td>18</td>\n",
              "      <td>2.0</td>\n",
              "      <td>12.0</td>\n",
              "      <td>...</td>\n",
              "      <td>1.000000</td>\n",
              "      <td>1.500000</td>\n",
              "      <td>1.333333</td>\n",
              "      <td>2.000000</td>\n",
              "      <td>1.500000</td>\n",
              "      <td>2</td>\n",
              "      <td>8</td>\n",
              "      <td>6</td>\n",
              "      <td>3</td>\n",
              "      <td>0</td>\n",
              "    </tr>\n",
              "  </tbody>\n",
              "</table>\n",
              "<p>5 rows × 403 columns</p>\n",
              "</div>"
            ],
            "text/plain": [
              "   introelapse  testelapse  surveyelapse  education  urban  gender  engnat  \\\n",
              "0            3         553             6        2.0      1     3.0     1.0   \n",
              "1            5          85           120        4.0      2     2.0     1.0   \n",
              "2            9         108           100        2.0      1     1.0     2.0   \n",
              "3            2         121           139        1.0      3     1.0     1.0   \n",
              "4            3         640           216        1.0      2     2.0     2.0   \n",
              "\n",
              "   age  hand  religion  ...  TIPI7_dv_TIPI9  TIPI7_dv_TIPI10  TIPI8_dv_TIPI9  \\\n",
              "0   20   2.0      12.0  ...        1.000000         1.666667        0.600000   \n",
              "1   49   1.0       2.0  ...        2.500000         2.500000        0.500000   \n",
              "2   43   1.0       2.0  ...        0.600000         1.500000        0.800000   \n",
              "3   17   2.0       1.0  ...        1.333333         1.333333        1.333333   \n",
              "4   18   2.0      12.0  ...        1.000000         1.500000        1.333333   \n",
              "\n",
              "   TIPI8_dv_TIPI10  TIPI9_dv_TIPI10  nara  VCL_score  VCL_1_score  \\\n",
              "0         1.000000         1.666667     4          8            6   \n",
              "1         0.500000         1.000000     4         11            6   \n",
              "2         2.000000         2.500000     2         11            6   \n",
              "3         1.333333         1.000000     4          9            6   \n",
              "4         2.000000         1.500000     2          8            6   \n",
              "\n",
              "   VCL_2_score  VCL_3_score  \n",
              "0            2            0  \n",
              "1            5            0  \n",
              "2            5            0  \n",
              "3            3            0  \n",
              "4            3            0  \n",
              "\n",
              "[5 rows x 403 columns]"
            ]
          },
          "execution_count": 31,
          "metadata": {},
          "output_type": "execute_result"
        }
      ],
      "source": [
        "train.head()"
      ]
    },
    {
      "cell_type": "markdown",
      "id": "949c675e",
      "metadata": {
        "id": "949c675e"
      },
      "source": [
        "# Hand"
      ]
    },
    {
      "cell_type": "code",
      "execution_count": null,
      "id": "98732d22",
      "metadata": {
        "id": "98732d22"
      },
      "outputs": [],
      "source": [
        "train.drop('hand', axis=1, inplace = True)\n",
        "test.drop('hand', axis=1, inplace = True)"
      ]
    },
    {
      "cell_type": "markdown",
      "id": "3e4673f1",
      "metadata": {
        "id": "3e4673f1"
      },
      "source": [
        "# Family size"
      ]
    },
    {
      "cell_type": "code",
      "execution_count": null,
      "id": "f0e4bc2d",
      "metadata": {
        "id": "f0e4bc2d"
      },
      "outputs": [],
      "source": [
        "#이상치 제거\n",
        "train = train.drop(train[train.familysize > 50].index)\n",
        "#test = test.drop(test[test.familysize > 50].index)"
      ]
    },
    {
      "cell_type": "markdown",
      "id": "93cf0791",
      "metadata": {
        "id": "93cf0791"
      },
      "source": [
        "# religion & married & voted & orientation"
      ]
    },
    {
      "cell_type": "code",
      "execution_count": null,
      "id": "e41ba4e3",
      "metadata": {
        "id": "e41ba4e3"
      },
      "outputs": [],
      "source": [
        "#train 데이터 결측치 대체: KNN\n",
        "knull(['familysize','religion','orientation','married','voted','nerdiness'])"
      ]
    },
    {
      "cell_type": "markdown",
      "id": "d4b6700c",
      "metadata": {
        "id": "d4b6700c"
      },
      "source": [
        "# Age"
      ]
    },
    {
      "cell_type": "code",
      "execution_count": null,
      "id": "69e701a2",
      "metadata": {
        "id": "69e701a2"
      },
      "outputs": [],
      "source": [
        "#이상치 제거\n",
        "train = train.drop(train[train.age > 100].index)\n",
        "#test = test.drop(test[test.age > 100].index)"
      ]
    },
    {
      "cell_type": "code",
      "execution_count": null,
      "id": "a0f25217",
      "metadata": {
        "id": "a0f25217"
      },
      "outputs": [],
      "source": [
        "# age로 연령대 구간 나누기\n",
        "def age_categorize(age):\n",
        "    age = (age // 10)\n",
        "    return age\n",
        "\n",
        "train['age_cuts'] = age_categorize(train['age'])\n",
        "test['age_cuts'] = age_categorize(test['age'])\n",
        "\n",
        "# 기존의 age drop하기\n",
        "train.drop('age', axis=1, inplace=True)\n",
        "test.drop('age', axis=1, inplace = True)"
      ]
    },
    {
      "cell_type": "markdown",
      "id": "4229249c",
      "metadata": {
        "id": "4229249c"
      },
      "source": [
        "# Elapse"
      ]
    },
    {
      "cell_type": "code",
      "execution_count": null,
      "id": "055bbf36",
      "metadata": {
        "id": "055bbf36"
      },
      "outputs": [],
      "source": [
        "elapse = ['introelapse', 'testelapse', 'surveyelapse']"
      ]
    },
    {
      "cell_type": "code",
      "execution_count": null,
      "id": "27dbd0e7",
      "metadata": {
        "id": "27dbd0e7"
      },
      "outputs": [],
      "source": [
        "train[elapse]=np.log1p(train[elapse])"
      ]
    },
    {
      "cell_type": "code",
      "execution_count": null,
      "id": "9d37fb04",
      "metadata": {
        "id": "9d37fb04"
      },
      "outputs": [],
      "source": [
        "#걸린시간 합\n",
        "train['elapse_sum'] = train['testelapse']+train['surveyelapse']\n",
        "test['elapse_sum'] = test['testelapse']+test['surveyelapse']\n",
        "\n",
        "#train.drop('introelapse', axis=1, inplace = True)\n",
        "#test.drop('introelapse', axis=1, inplace = True)\n",
        "\n",
        "train.drop('testelapse', axis=1, inplace = True)\n",
        "test.drop('testelapse', axis=1, inplace = True)\n",
        "\n",
        "train.drop('surveyelapse', axis=1, inplace = True)\n",
        "test.drop('surveyelapse', axis=1, inplace = True)"
      ]
    },
    {
      "cell_type": "markdown",
      "id": "aa2ceffa",
      "metadata": {
        "id": "aa2ceffa"
      },
      "source": [
        "# 나머지 피처 결측치"
      ]
    },
    {
      "cell_type": "code",
      "execution_count": null,
      "id": "d4d5843d",
      "metadata": {
        "id": "d4d5843d"
      },
      "outputs": [],
      "source": [
        "#ASD 결측치 최빈값 대체\n",
        "train['ASD'] = train['ASD'].fillna(train['ASD'].mode()[0])\n",
        "test['ASD'] = test['ASD'].fillna(train['ASD'].mode()[0])\n",
        "\n",
        "#education 결측치 최빈값 대체\n",
        "train['education'] = train['education'].fillna(train['education'].mode()[0])\n",
        "test['education'] = test['education'].fillna(train['education'].mode()[0])\n",
        "\n",
        "#engnat 결측치 최빈값 대체\n",
        "train['engnat'] = train['engnat'].fillna(train['engnat'].mode()[0])\n",
        "test['engnat'] = test['engnat'].fillna(train['engnat'].mode()[0])\n",
        "\n",
        "#gender 결측치 최빈값 대체\n",
        "train['gender'] = train['gender'].fillna(train['gender'].mode()[0])\n",
        "test['gender'] = test['gender'].fillna(train['gender'].mode()[0])\n",
        "\n",
        "#religion 결측치 최빈값 대체\n",
        "test['religion'] = test['religion'].fillna(train['religion'].mode()[0])\n",
        "\n",
        "#orientation 결측치 최빈값 대체\n",
        "test['orientation'] = test['orientation'].fillna(train['orientation'].mode()[0])\n",
        "\n",
        "#voted 결측치 최빈값 대체\n",
        "test['voted'] = test['voted'].fillna(train['voted'].mode()[0])\n",
        "\n",
        "#married 결측치 최빈값 대체\n",
        "test['married'] = test['married'].fillna(train['married'].mode()[0])\n",
        "\n",
        "#familysize 결측치 최빈값 대체\n",
        "test['familysize'] = test['familysize'].fillna(train['familysize'].mode()[0])"
      ]
    },
    {
      "cell_type": "code",
      "execution_count": null,
      "id": "cad11e76",
      "metadata": {
        "id": "cad11e76"
      },
      "outputs": [],
      "source": [
        "from sklearn.preprocessing import LabelEncoder\n",
        "encoder = LabelEncoder()\n",
        "needenco = ['gender', 'religion', 'orientation']\n",
        "for i in needenco:\n",
        "    train[i] = encoder.fit_transform(train[i])\n",
        "    test[i] = encoder.transform(test[i])"
      ]
    },
    {
      "cell_type": "code",
      "execution_count": null,
      "id": "bd06982e",
      "metadata": {
        "id": "bd06982e",
        "outputId": "90a8b4f2-6e84-434a-e846-ee0390a08a9b"
      },
      "outputs": [
        {
          "name": "stdout",
          "output_type": "stream",
          "text": [
            "<class 'pandas.core.frame.DataFrame'>\n",
            "Int64Index: 14993 entries, 0 to 14999\n",
            "Columns: 401 entries, introelapse to elapse_sum\n",
            "dtypes: float64(391), int64(10)\n",
            "memory usage: 46.0 MB\n"
          ]
        }
      ],
      "source": [
        "train.info()"
      ]
    },
    {
      "cell_type": "code",
      "execution_count": null,
      "id": "05df12cc",
      "metadata": {
        "id": "05df12cc",
        "outputId": "ec836719-072f-46c7-c9cd-87539c5d07d4"
      },
      "outputs": [
        {
          "name": "stdout",
          "output_type": "stream",
          "text": [
            "<class 'pandas.core.frame.DataFrame'>\n",
            "RangeIndex: 35452 entries, 0 to 35451\n",
            "Columns: 400 entries, introelapse to elapse_sum\n",
            "dtypes: float64(388), int64(12)\n",
            "memory usage: 108.2 MB\n"
          ]
        }
      ],
      "source": [
        "test.info()"
      ]
    },
    {
      "cell_type": "markdown",
      "id": "40bf25fa",
      "metadata": {
        "id": "40bf25fa"
      },
      "source": [
        "# Model 1: ExtraTreesClassifier"
      ]
    },
    {
      "cell_type": "code",
      "execution_count": null,
      "id": "a85bf497",
      "metadata": {
        "id": "a85bf497"
      },
      "outputs": [],
      "source": [
        "# features, target split\n",
        "train_x = train.copy()\n",
        "train_x.drop('nerdiness', axis=1, inplace = True)\n",
        "train_y = train['nerdiness']\n",
        "\n",
        "from sklearn.model_selection import train_test_split\n",
        "from sklearn.metrics import accuracy_score\n",
        "from sklearn.metrics import roc_auc_score\n",
        "\n",
        "X_train_temp, X_test_temp, y_train_temp, y_test_temp = train_test_split(train_x, train_y, test_size=0.25, random_state=42)"
      ]
    },
    {
      "cell_type": "code",
      "execution_count": null,
      "id": "d688f2eb",
      "metadata": {
        "id": "d688f2eb",
        "outputId": "49193c3d-7ccf-4de1-9ae9-9d238bcc842d"
      },
      "outputs": [
        {
          "name": "stdout",
          "output_type": "stream",
          "text": [
            "0.7489369825391108\n"
          ]
        }
      ],
      "source": [
        "#Extra Trees Classifier\n",
        "from sklearn.ensemble import ExtraTreesClassifier\n",
        "\n",
        "X_train, X_test, y_train, y_test = train_test_split(X_train_temp, y_train_temp, test_size=0.25, random_state=42)\n",
        "xtree = ExtraTreesClassifier(n_estimators = 100, random_state=42)\n",
        "xtree.fit(X_train, y_train)\n",
        "\n",
        "preds = xtree.predict(X_test)\n",
        "auc = roc_auc_score(y_test, preds)\n",
        "print(auc)"
      ]
    },
    {
      "cell_type": "markdown",
      "id": "c1528fe0",
      "metadata": {
        "id": "c1528fe0"
      },
      "source": [
        "# Model2: ExtraTreesRegressor"
      ]
    },
    {
      "cell_type": "code",
      "execution_count": null,
      "id": "b6d03b2b",
      "metadata": {
        "id": "b6d03b2b"
      },
      "outputs": [],
      "source": [
        "# features, target split\n",
        "train_x = train.copy()\n",
        "train_x.drop('nerdiness', axis=1, inplace = True)\n",
        "train_y = train['nerdiness']\n",
        "\n",
        "from sklearn.model_selection import train_test_split\n",
        "from sklearn.metrics import accuracy_score\n",
        "from sklearn.metrics import roc_auc_score\n",
        "\n",
        "X_train_temp, X_test_temp, y_train_temp, y_test_temp = train_test_split(train_x, train_y, test_size=0.25, random_state=42)"
      ]
    },
    {
      "cell_type": "code",
      "execution_count": null,
      "id": "ded58533",
      "metadata": {
        "id": "ded58533",
        "outputId": "e1d0c61a-149e-4edd-aa5b-54ac0a2b8749"
      },
      "outputs": [
        {
          "name": "stdout",
          "output_type": "stream",
          "text": [
            "Extra Trees Regressor auc:  0.8706426681708852\n"
          ]
        }
      ],
      "source": [
        "#Extra Trees Regressor\n",
        "from sklearn.ensemble import ExtraTreesRegressor\n",
        "\n",
        "#X_train, X_test, y_train, y_test = train_test_split(X_train_temp, y_train_temp, test_size=0.25, random_state=42)\n",
        "xtree_re = ExtraTreesRegressor(n_estimators = 100, random_state=42)\n",
        "xtree_re.fit(X_train_temp, y_train_temp)\n",
        "\n",
        "preds = xtree_re.predict(X_test_temp)\n",
        "auc = roc_auc_score(y_test_temp, preds)\n",
        "print('Extra Trees Regressor auc: ',auc)"
      ]
    },
    {
      "cell_type": "markdown",
      "id": "72f84f69",
      "metadata": {
        "id": "72f84f69"
      },
      "source": [
        "# Model3: 4 LGBM Ensemble"
      ]
    },
    {
      "cell_type": "code",
      "execution_count": null,
      "id": "87178024",
      "metadata": {
        "id": "87178024"
      },
      "outputs": [],
      "source": [
        "import warnings\n",
        "\n",
        "warnings.filterwarnings(action='ignore')\n",
        "#warnings.filterwarnings(action='default')"
      ]
    },
    {
      "cell_type": "code",
      "execution_count": null,
      "id": "6dd58aa2",
      "metadata": {
        "id": "6dd58aa2"
      },
      "outputs": [],
      "source": [
        "# features, target split\n",
        "train_x = train.copy()\n",
        "train_x.drop('nerdiness', axis=1, inplace = True)\n",
        "train_y = train['nerdiness']\n",
        "\n",
        "from sklearn.model_selection import train_test_split\n",
        "from sklearn.metrics import accuracy_score\n",
        "from sklearn.metrics import roc_auc_score\n",
        "\n",
        "X_train, X_test, y_train, y_test = train_test_split(train_x, train_y, test_size=0.25, random_state=42)"
      ]
    },
    {
      "cell_type": "code",
      "execution_count": null,
      "id": "592e6a06",
      "metadata": {
        "id": "592e6a06",
        "outputId": "bcf729fa-cd89-44af-f561-0174fe5d19d0"
      },
      "outputs": [
        {
          "name": "stdout",
          "output_type": "stream",
          "text": [
            "400 0.838650413316031\n",
            "360 0.8327561895225152\n",
            "324 0.8325329273401657\n",
            "291 0.8370599895776921\n",
            "261 0.8324823484933633\n",
            "234 0.8396221402515658\n",
            "210 0.8356815882779691\n",
            "189 0.8318467920749589\n",
            "170 0.832510447852698\n",
            "153 0.8354108126334719\n",
            "137 0.836949124832681\n",
            "123 0.8433700838893601\n",
            "110 0.8401994543615314\n",
            "99 0.835634585713264\n",
            "89 0.838358179978951\n",
            "80 0.8380301838208998\n",
            "72 0.8349908549357801\n",
            "64 0.8299242849990293\n",
            "57 0.8336660978675141\n",
            "51 0.8306640644956932\n",
            "45 0.8305307202632143\n",
            "40 0.8338392921005039\n"
          ]
        }
      ],
      "source": [
        "def lgbm_rfe_30(x_data, y_data, ratio=0.9, min_feats=40):\n",
        "    feats = x_data.columns.tolist()\n",
        "    archive = pd.DataFrame(columns=['model', 'n_feats', 'feats', 'score'])\n",
        "    while True:\n",
        "        model = LGBMClassifier(objective = 'binary', num_iterations=10**4)\n",
        "        x_train, x_val, y_train, y_val = train_test_split(x_data[feats], y_data, random_state=30)\n",
        "        model.fit(x_train, y_train, eval_set = [(x_val, y_val)], early_stopping_rounds=100, verbose=False)\n",
        "        val_pred = model.predict_proba(x_val)\n",
        "        val_pred = val_pred[:,1]\n",
        "        score = roc_auc_score(y_val, val_pred)\n",
        "        n_feats = len(feats)\n",
        "        print(n_feats, score)\n",
        "        archive = archive.append({'model':model, 'n_feats':n_feats, 'feats':feats, 'score':score}, ignore_index=True)\n",
        "        feat_imp = pd.Series(model.feature_importances_, index=feats).sort_values(ascending=False)\n",
        "        next_n_feats = int(n_feats*ratio)\n",
        "        if next_n_feats < min_feats:\n",
        "            break\n",
        "        else:\n",
        "            feats = feat_imp.iloc[:next_n_feats].index.tolist()\n",
        "    return archive\n",
        "\n",
        "lgbm_30 = lgbm_rfe_30(X_train, y_train)"
      ]
    },
    {
      "cell_type": "code",
      "execution_count": null,
      "id": "7c370034",
      "metadata": {
        "id": "7c370034"
      },
      "outputs": [],
      "source": [
        "model1 = LGBMClassifier(objective=\"binary\", num_iterations=10**3)\n",
        "x_train_1 = X_train[lgbm_30.iloc[7,2]]\n",
        "model1.fit(x_train_1, y_train)\n",
        "\n",
        "pred_y1 = model1.predict_proba(X_test[lgbm_30.iloc[7,2]])\n",
        "pred_y1 = pred_y1[:,1]"
      ]
    },
    {
      "cell_type": "code",
      "execution_count": null,
      "id": "4de13c6b",
      "metadata": {
        "id": "4de13c6b",
        "outputId": "57a40f05-21c7-4258-bbef-6269a120c4a1"
      },
      "outputs": [
        {
          "name": "stdout",
          "output_type": "stream",
          "text": [
            "400 0.8351892844698601\n",
            "360 0.8314251163172026\n",
            "324 0.8381991842423498\n",
            "291 0.8358979483080203\n",
            "261 0.8330730287564819\n",
            "234 0.833065855008301\n",
            "210 0.8324642849822705\n",
            "189 0.8310013527639427\n",
            "170 0.8349002849002849\n",
            "153 0.8342218532866015\n",
            "137 0.8290444567422985\n",
            "123 0.8358605423353624\n",
            "110 0.8318811617372769\n",
            "99 0.8320661419582283\n",
            "89 0.8327394494660681\n",
            "80 0.8300354588124372\n",
            "72 0.8292494209760397\n",
            "64 0.8304207915718709\n",
            "57 0.8231717190350284\n",
            "51 0.8259341244952756\n",
            "45 0.8217374818094243\n",
            "40 0.8234494455717477\n"
          ]
        }
      ],
      "source": [
        "def lgbm_rfe_500(x_data, y_data, ratio=0.9, min_feats=40):\n",
        "    feats = x_data.columns.tolist()\n",
        "    archive = pd.DataFrame(columns=['model', 'n_feats', 'feats', 'score'])\n",
        "    while True:\n",
        "        model = LGBMClassifier(objective = 'binary', num_iterations=10**4)\n",
        "        x_train, x_val, y_train, y_val = train_test_split(x_data[feats], y_data, random_state=500)\n",
        "        model.fit(x_train, y_train, eval_set = [(x_val, y_val)], early_stopping_rounds=100, verbose=False)\n",
        "        val_pred = model.predict_proba(x_val)\n",
        "        val_pred = val_pred[:,1]\n",
        "        score = roc_auc_score(y_val, val_pred)\n",
        "        n_feats = len(feats)\n",
        "        print(n_feats, score)\n",
        "        archive = archive.append({'model':model, 'n_feats':n_feats, 'feats':feats, 'score':score}, ignore_index=True)\n",
        "        feat_imp = pd.Series(model.feature_importances_, index=feats).sort_values(ascending=False)\n",
        "        next_n_feats = int(n_feats*ratio)\n",
        "        if next_n_feats < min_feats:\n",
        "            break\n",
        "        else:\n",
        "            feats = feat_imp.iloc[:next_n_feats].index.tolist()\n",
        "    return archive\n",
        "\n",
        "lgbm_500 = lgbm_rfe_500(X_train, y_train)"
      ]
    },
    {
      "cell_type": "code",
      "execution_count": null,
      "id": "de0cc396",
      "metadata": {
        "id": "de0cc396"
      },
      "outputs": [],
      "source": [
        "model2 = LGBMClassifier(objective=\"binary\", num_iterations=10**3)\n",
        "x_train_2 = X_train[lgbm_500.iloc[7,2]]\n",
        "model2.fit(x_train_2, y_train)\n",
        "\n",
        "pred_y2 = model2.predict_proba(X_test[lgbm_500.iloc[7,2]])\n",
        "pred_y2 = pred_y2[:,1]"
      ]
    },
    {
      "cell_type": "code",
      "execution_count": null,
      "id": "6d5b8e31",
      "metadata": {
        "id": "6d5b8e31",
        "outputId": "0c2d5d8d-56bd-494a-ac58-8edfe4bf69a9"
      },
      "outputs": [
        {
          "name": "stdout",
          "output_type": "stream",
          "text": [
            "400 0.8264579677722361\n",
            "360 0.8296508334536932\n",
            "324 0.8273686054337104\n",
            "291 0.82381824532722\n",
            "261 0.823754736288962\n",
            "234 0.8247237612920606\n",
            "210 0.8218709762670822\n",
            "189 0.8234054365785428\n",
            "170 0.8252871479217692\n",
            "153 0.8274187980607207\n",
            "137 0.8283038272390266\n",
            "123 0.8258884351065672\n",
            "110 0.8271698836043224\n",
            "99 0.8222632982292245\n",
            "89 0.8262126385034811\n",
            "80 0.8230474299838463\n",
            "72 0.8294326491770969\n",
            "64 0.8241583259836988\n",
            "57 0.8194151227312165\n",
            "51 0.8112408949038095\n",
            "45 0.8196041133370005\n",
            "40 0.8228046615634081\n"
          ]
        }
      ],
      "source": [
        "def lgbm_rfe_913(x_data, y_data, ratio=0.9, min_feats=40):\n",
        "    feats = x_data.columns.tolist()\n",
        "    archive = pd.DataFrame(columns=['model', 'n_feats', 'feats', 'score'])\n",
        "    while True:\n",
        "        model = LGBMClassifier(objective = 'binary', num_iterations=10**4)\n",
        "        x_train, x_val, y_train, y_val = train_test_split(x_data[feats], y_data, random_state=913)\n",
        "        model.fit(x_train, y_train, eval_set = [(x_val, y_val)], early_stopping_rounds=100, verbose=False)\n",
        "        val_pred = model.predict_proba(x_val)\n",
        "        val_pred = val_pred[:,1]\n",
        "        score = roc_auc_score(y_val, val_pred)\n",
        "        n_feats = len(feats)\n",
        "        print(n_feats, score)\n",
        "        archive = archive.append({'model':model, 'n_feats':n_feats, 'feats':feats, 'score':score}, ignore_index=True)\n",
        "        feat_imp = pd.Series(model.feature_importances_, index=feats).sort_values(ascending=False)\n",
        "        next_n_feats = int(n_feats*ratio)\n",
        "        if next_n_feats < min_feats:\n",
        "            break\n",
        "        else:\n",
        "            feats = feat_imp.iloc[:next_n_feats].index.tolist()\n",
        "    return archive\n",
        "\n",
        "lgbm_913 = lgbm_rfe_913(X_train, y_train)"
      ]
    },
    {
      "cell_type": "code",
      "execution_count": null,
      "id": "52fc4375",
      "metadata": {
        "id": "52fc4375"
      },
      "outputs": [],
      "source": [
        "model3 = LGBMClassifier(objective=\"binary\", num_iterations=10**3)\n",
        "x_train_3 = X_train[lgbm_913.iloc[7,2]]\n",
        "model3.fit(x_train_3, y_train)\n",
        "\n",
        "pred_y3 = model3.predict_proba(X_test[lgbm_913.iloc[7,2]])\n",
        "pred_y3 = pred_y3[:,1]"
      ]
    },
    {
      "cell_type": "code",
      "execution_count": null,
      "id": "e1873a46",
      "metadata": {
        "id": "e1873a46",
        "outputId": "38e1d199-3a5e-4050-92ca-7eb9a3207ae0"
      },
      "outputs": [
        {
          "name": "stdout",
          "output_type": "stream",
          "text": [
            "400 0.8164896491668145\n",
            "360 0.8268720926201241\n",
            "324 0.8253976265787288\n",
            "291 0.81930347284678\n",
            "261 0.8200055266984401\n",
            "234 0.8289405257909195\n",
            "210 0.8218888868495168\n",
            "189 0.8205276059606768\n",
            "170 0.8235530144978964\n",
            "153 0.8241495308424441\n",
            "137 0.82136680758728\n",
            "123 0.8210700789440947\n",
            "110 0.8241459619412375\n",
            "99 0.8229167303970454\n",
            "89 0.8170514961853546\n",
            "80 0.8279636665463437\n",
            "72 0.8209171260352363\n",
            "64 0.8190036851454174\n",
            "57 0.8196904437061917\n",
            "51 0.8156642133020086\n",
            "45 0.8114692248550516\n",
            "40 0.8215855302469475\n"
          ]
        }
      ],
      "source": [
        "def lgbm_rfe_8(x_data, y_data, ratio=0.9, min_feats=40):\n",
        "    feats = x_data.columns.tolist()\n",
        "    archive = pd.DataFrame(columns=['model', 'n_feats', 'feats', 'score'])\n",
        "    while True:\n",
        "        model = LGBMClassifier(objective = 'binary', num_iterations=10**4)\n",
        "        x_train, x_val, y_train, y_val = train_test_split(x_data[feats], y_data, random_state=8)\n",
        "        model.fit(x_train, y_train, eval_set = [(x_val, y_val)], early_stopping_rounds=100, verbose=False)\n",
        "        val_pred = model.predict_proba(x_val)\n",
        "        val_pred = val_pred[:,1]\n",
        "        score = roc_auc_score(y_val, val_pred)\n",
        "        n_feats = len(feats)\n",
        "        print(n_feats, score)\n",
        "        archive = archive.append({'model':model, 'n_feats':n_feats, 'feats':feats, 'score':score}, ignore_index=True)\n",
        "        feat_imp = pd.Series(model.feature_importances_, index=feats).sort_values(ascending=False)\n",
        "        next_n_feats = int(n_feats*ratio)\n",
        "        if next_n_feats < min_feats:\n",
        "            break\n",
        "        else:\n",
        "            feats = feat_imp.iloc[:next_n_feats].index.tolist()\n",
        "    return archive\n",
        "\n",
        "lgbm_8 = lgbm_rfe_8(X_train, y_train)"
      ]
    },
    {
      "cell_type": "code",
      "execution_count": null,
      "id": "8355974a",
      "metadata": {
        "id": "8355974a"
      },
      "outputs": [],
      "source": [
        "model4 = LGBMClassifier(objective=\"binary\", num_iterations=10**3)\n",
        "x_train_4 = X_train[lgbm_8.iloc[7,2]]\n",
        "model4.fit(x_train_4, y_train)\n",
        "\n",
        "pred_y4 = model4.predict_proba(X_test[lgbm_8.iloc[7,2]])\n",
        "pred_y4 = pred_y4[:,1]"
      ]
    },
    {
      "cell_type": "code",
      "execution_count": null,
      "id": "07f15a42",
      "metadata": {
        "id": "07f15a42"
      },
      "outputs": [],
      "source": [
        "pred_all = (pred_y1 + pred_y2 + pred_y3 + pred_y4) * (1/4)\n",
        "\n",
        "lgbm_ensemble_nerdiness = pd.DataFrame({\n",
        "    'nerdiness':pred_all\n",
        "})"
      ]
    },
    {
      "cell_type": "code",
      "execution_count": null,
      "id": "b59635fb",
      "metadata": {
        "id": "b59635fb",
        "outputId": "75bd5c61-7066-4851-c7ac-1be12ca13921"
      },
      "outputs": [
        {
          "name": "stdout",
          "output_type": "stream",
          "text": [
            "LGBM Ensemble auc:  0.8674108408386134\n"
          ]
        }
      ],
      "source": [
        "auc = roc_auc_score(y_test, pred_all)\n",
        "print('LGBM Ensemble auc: ',auc)"
      ]
    },
    {
      "cell_type": "markdown",
      "id": "9929c73d",
      "metadata": {
        "id": "9929c73d"
      },
      "source": [
        "# Model 2 + 3"
      ]
    },
    {
      "cell_type": "code",
      "execution_count": null,
      "id": "0b77b60e",
      "metadata": {
        "id": "0b77b60e",
        "outputId": "1a7354be-71b7-4721-a9e7-cea873afe5ce"
      },
      "outputs": [
        {
          "name": "stdout",
          "output_type": "stream",
          "text": [
            "combined_2_3 auc:  0.8752872879158236\n"
          ]
        }
      ],
      "source": [
        "pred_y_ensemble = (preds)*(0.7) + (pred_all)*(0.3)\n",
        "auc = roc_auc_score(y_test, pred_y_ensemble)\n",
        "print('combined_2_3 auc: ', auc)"
      ]
    },
    {
      "cell_type": "markdown",
      "id": "5fa8d70f",
      "metadata": {
        "id": "5fa8d70f"
      },
      "source": [
        "# Model 2-2: Extra Trees Regressor 교차검증"
      ]
    },
    {
      "cell_type": "code",
      "execution_count": null,
      "id": "ea3476aa",
      "metadata": {
        "id": "ea3476aa"
      },
      "outputs": [],
      "source": [
        "# features, target split\n",
        "train_x = train.copy()\n",
        "train_x.drop('nerdiness', axis=1, inplace = True)\n",
        "train_y = train['nerdiness']\n",
        "\n",
        "from sklearn.model_selection import train_test_split\n",
        "from sklearn.metrics import accuracy_score\n",
        "from sklearn.metrics import roc_auc_score\n",
        "\n",
        "X_train_temp, X_test_temp, y_train_temp, y_test_temp = train_test_split(train_x, train_y, test_size=0.25, random_state=42)"
      ]
    },
    {
      "cell_type": "code",
      "execution_count": null,
      "id": "3bd998ee",
      "metadata": {
        "id": "3bd998ee",
        "outputId": "2e18479e-ad48-4b5c-9e1c-b41ee67074e3"
      },
      "outputs": [
        {
          "name": "stdout",
          "output_type": "stream",
          "text": [
            "1.0 0.7690329351597942\n"
          ]
        }
      ],
      "source": [
        "from sklearn.ensemble import ExtraTreesClassifier\n",
        "\n",
        "et = ExtraTreesClassifier(n_estimators=1000, random_state=42)\n",
        "scores = cross_validate(et, X_train_temp, y_train_temp, return_train_score=True, n_jobs=-1)\n",
        "\n",
        "print(np.mean(scores['train_score']), np.mean(scores['test_score']))"
      ]
    },
    {
      "cell_type": "markdown",
      "id": "483aaa22",
      "metadata": {
        "id": "483aaa22"
      },
      "source": [
        "# ExtraTreesRegressor 하이퍼파라미터 조정"
      ]
    },
    {
      "cell_type": "code",
      "execution_count": null,
      "id": "23f13066",
      "metadata": {
        "id": "23f13066"
      },
      "outputs": [],
      "source": [
        "# features, target split\n",
        "train_x = train.copy()\n",
        "train_x.drop('nerdiness', axis=1, inplace = True)\n",
        "train_y = train['nerdiness']\n",
        "\n",
        "from sklearn.model_selection import train_test_split\n",
        "from sklearn.metrics import accuracy_score\n",
        "from sklearn.metrics import roc_auc_score\n",
        "\n",
        "X_train_temp, X_test_temp, y_train_temp, y_test_temp = train_test_split(train_x, train_y, test_size=0.25, random_state=42)"
      ]
    },
    {
      "cell_type": "code",
      "execution_count": null,
      "id": "536bcc68",
      "metadata": {
        "id": "536bcc68"
      },
      "outputs": [],
      "source": [
        "from sklearn.ensemble import ExtraTreesClassifier\n",
        "\n",
        "et = ExtraTreesClassifier(n_estimators=1000, random_state=42)\n",
        "scores = cross_validate(et, X_train_temp, y_train_temp, return_train_score=True, n_jobs=-1)\n",
        "\n",
        "print(np.mean(scores['train_score']), np.mean(scores['test_score']))"
      ]
    },
    {
      "cell_type": "markdown",
      "id": "38827fa8",
      "metadata": {
        "id": "38827fa8"
      },
      "source": [
        "# ExtraTreesRegressor 하이퍼파라미터 튜닝 시도"
      ]
    },
    {
      "cell_type": "code",
      "execution_count": null,
      "id": "6f60bdd2",
      "metadata": {
        "id": "6f60bdd2"
      },
      "outputs": [],
      "source": [
        "# features, target split\n",
        "train_x = train.copy()\n",
        "train_x.drop('nerdiness', axis=1, inplace = True)\n",
        "train_y = train['nerdiness']\n",
        "\n",
        "from sklearn.model_selection import train_test_split\n",
        "from sklearn.metrics import accuracy_score\n",
        "from sklearn.metrics import roc_auc_score\n",
        "\n",
        "X_train_temp, X_test_temp, y_train_temp, y_test_temp = train_test_split(train_x, train_y, test_size=0.25, random_state=42)"
      ]
    },
    {
      "cell_type": "code",
      "execution_count": null,
      "id": "0e9ff713",
      "metadata": {
        "id": "0e9ff713",
        "outputId": "209275c9-6333-4888-fd5d-3def78875371"
      },
      "outputs": [
        {
          "ename": "KeyboardInterrupt",
          "evalue": "",
          "output_type": "error",
          "traceback": [
            "\u001b[1;31m---------------------------------------------------------------------------\u001b[0m",
            "\u001b[1;31mKeyboardInterrupt\u001b[0m                         Traceback (most recent call last)",
            "\u001b[1;32m~\\AppData\\Local\\Temp/ipykernel_28880/2171704978.py\u001b[0m in \u001b[0;36m<module>\u001b[1;34m\u001b[0m\n\u001b[0;32m     17\u001b[0m \u001b[1;33m\u001b[0m\u001b[0m\n\u001b[0;32m     18\u001b[0m \u001b[1;33m\u001b[0m\u001b[0m\n\u001b[1;32m---> 19\u001b[1;33m \u001b[0mgrid_result\u001b[0m \u001b[1;33m=\u001b[0m \u001b[0mgsc\u001b[0m\u001b[1;33m.\u001b[0m\u001b[0mfit\u001b[0m\u001b[1;33m(\u001b[0m\u001b[0mX_train_temp\u001b[0m\u001b[1;33m,\u001b[0m \u001b[0my_train_temp\u001b[0m\u001b[1;33m)\u001b[0m\u001b[1;33m\u001b[0m\u001b[1;33m\u001b[0m\u001b[0m\n\u001b[0m\u001b[0;32m     20\u001b[0m \u001b[1;33m\u001b[0m\u001b[0m\n\u001b[0;32m     21\u001b[0m \u001b[0mprint\u001b[0m\u001b[1;33m(\u001b[0m\u001b[1;34m'Best: %f using %s'\u001b[0m \u001b[1;33m%\u001b[0m \u001b[1;33m(\u001b[0m\u001b[0mgrid_result\u001b[0m\u001b[1;33m.\u001b[0m\u001b[0mbest_score_\u001b[0m\u001b[1;33m,\u001b[0m \u001b[0mgrid_result\u001b[0m\u001b[1;33m.\u001b[0m\u001b[0mbest_params_\u001b[0m\u001b[1;33m)\u001b[0m\u001b[1;33m)\u001b[0m\u001b[1;33m\u001b[0m\u001b[1;33m\u001b[0m\u001b[0m\n",
            "\u001b[1;32m~\\anaconda3\\lib\\site-packages\\sklearn\\model_selection\\_search.py\u001b[0m in \u001b[0;36mfit\u001b[1;34m(self, X, y, groups, **fit_params)\u001b[0m\n\u001b[0;32m    873\u001b[0m                 \u001b[1;32mreturn\u001b[0m \u001b[0mresults\u001b[0m\u001b[1;33m\u001b[0m\u001b[1;33m\u001b[0m\u001b[0m\n\u001b[0;32m    874\u001b[0m \u001b[1;33m\u001b[0m\u001b[0m\n\u001b[1;32m--> 875\u001b[1;33m             \u001b[0mself\u001b[0m\u001b[1;33m.\u001b[0m\u001b[0m_run_search\u001b[0m\u001b[1;33m(\u001b[0m\u001b[0mevaluate_candidates\u001b[0m\u001b[1;33m)\u001b[0m\u001b[1;33m\u001b[0m\u001b[1;33m\u001b[0m\u001b[0m\n\u001b[0m\u001b[0;32m    876\u001b[0m \u001b[1;33m\u001b[0m\u001b[0m\n\u001b[0;32m    877\u001b[0m             \u001b[1;31m# multimetric is determined here because in the case of a callable\u001b[0m\u001b[1;33m\u001b[0m\u001b[1;33m\u001b[0m\u001b[0m\n",
            "\u001b[1;32m~\\anaconda3\\lib\\site-packages\\sklearn\\model_selection\\_search.py\u001b[0m in \u001b[0;36m_run_search\u001b[1;34m(self, evaluate_candidates)\u001b[0m\n\u001b[0;32m   1373\u001b[0m     \u001b[1;32mdef\u001b[0m \u001b[0m_run_search\u001b[0m\u001b[1;33m(\u001b[0m\u001b[0mself\u001b[0m\u001b[1;33m,\u001b[0m \u001b[0mevaluate_candidates\u001b[0m\u001b[1;33m)\u001b[0m\u001b[1;33m:\u001b[0m\u001b[1;33m\u001b[0m\u001b[1;33m\u001b[0m\u001b[0m\n\u001b[0;32m   1374\u001b[0m         \u001b[1;34m\"\"\"Search all candidates in param_grid\"\"\"\u001b[0m\u001b[1;33m\u001b[0m\u001b[1;33m\u001b[0m\u001b[0m\n\u001b[1;32m-> 1375\u001b[1;33m         \u001b[0mevaluate_candidates\u001b[0m\u001b[1;33m(\u001b[0m\u001b[0mParameterGrid\u001b[0m\u001b[1;33m(\u001b[0m\u001b[0mself\u001b[0m\u001b[1;33m.\u001b[0m\u001b[0mparam_grid\u001b[0m\u001b[1;33m)\u001b[0m\u001b[1;33m)\u001b[0m\u001b[1;33m\u001b[0m\u001b[1;33m\u001b[0m\u001b[0m\n\u001b[0m\u001b[0;32m   1376\u001b[0m \u001b[1;33m\u001b[0m\u001b[0m\n\u001b[0;32m   1377\u001b[0m \u001b[1;33m\u001b[0m\u001b[0m\n",
            "\u001b[1;32m~\\anaconda3\\lib\\site-packages\\sklearn\\model_selection\\_search.py\u001b[0m in \u001b[0;36mevaluate_candidates\u001b[1;34m(candidate_params, cv, more_results)\u001b[0m\n\u001b[0;32m    820\u001b[0m                     )\n\u001b[0;32m    821\u001b[0m \u001b[1;33m\u001b[0m\u001b[0m\n\u001b[1;32m--> 822\u001b[1;33m                 out = parallel(\n\u001b[0m\u001b[0;32m    823\u001b[0m                     delayed(_fit_and_score)(\n\u001b[0;32m    824\u001b[0m                         \u001b[0mclone\u001b[0m\u001b[1;33m(\u001b[0m\u001b[0mbase_estimator\u001b[0m\u001b[1;33m)\u001b[0m\u001b[1;33m,\u001b[0m\u001b[1;33m\u001b[0m\u001b[1;33m\u001b[0m\u001b[0m\n",
            "\u001b[1;32m~\\anaconda3\\lib\\site-packages\\joblib\\parallel.py\u001b[0m in \u001b[0;36m__call__\u001b[1;34m(self, iterable)\u001b[0m\n\u001b[0;32m   1044\u001b[0m                 \u001b[0mself\u001b[0m\u001b[1;33m.\u001b[0m\u001b[0m_iterating\u001b[0m \u001b[1;33m=\u001b[0m \u001b[0mself\u001b[0m\u001b[1;33m.\u001b[0m\u001b[0m_original_iterator\u001b[0m \u001b[1;32mis\u001b[0m \u001b[1;32mnot\u001b[0m \u001b[1;32mNone\u001b[0m\u001b[1;33m\u001b[0m\u001b[1;33m\u001b[0m\u001b[0m\n\u001b[0;32m   1045\u001b[0m \u001b[1;33m\u001b[0m\u001b[0m\n\u001b[1;32m-> 1046\u001b[1;33m             \u001b[1;32mwhile\u001b[0m \u001b[0mself\u001b[0m\u001b[1;33m.\u001b[0m\u001b[0mdispatch_one_batch\u001b[0m\u001b[1;33m(\u001b[0m\u001b[0miterator\u001b[0m\u001b[1;33m)\u001b[0m\u001b[1;33m:\u001b[0m\u001b[1;33m\u001b[0m\u001b[1;33m\u001b[0m\u001b[0m\n\u001b[0m\u001b[0;32m   1047\u001b[0m                 \u001b[1;32mpass\u001b[0m\u001b[1;33m\u001b[0m\u001b[1;33m\u001b[0m\u001b[0m\n\u001b[0;32m   1048\u001b[0m \u001b[1;33m\u001b[0m\u001b[0m\n",
            "\u001b[1;32m~\\anaconda3\\lib\\site-packages\\joblib\\parallel.py\u001b[0m in \u001b[0;36mdispatch_one_batch\u001b[1;34m(self, iterator)\u001b[0m\n\u001b[0;32m    859\u001b[0m                 \u001b[1;32mreturn\u001b[0m \u001b[1;32mFalse\u001b[0m\u001b[1;33m\u001b[0m\u001b[1;33m\u001b[0m\u001b[0m\n\u001b[0;32m    860\u001b[0m             \u001b[1;32melse\u001b[0m\u001b[1;33m:\u001b[0m\u001b[1;33m\u001b[0m\u001b[1;33m\u001b[0m\u001b[0m\n\u001b[1;32m--> 861\u001b[1;33m                 \u001b[0mself\u001b[0m\u001b[1;33m.\u001b[0m\u001b[0m_dispatch\u001b[0m\u001b[1;33m(\u001b[0m\u001b[0mtasks\u001b[0m\u001b[1;33m)\u001b[0m\u001b[1;33m\u001b[0m\u001b[1;33m\u001b[0m\u001b[0m\n\u001b[0m\u001b[0;32m    862\u001b[0m                 \u001b[1;32mreturn\u001b[0m \u001b[1;32mTrue\u001b[0m\u001b[1;33m\u001b[0m\u001b[1;33m\u001b[0m\u001b[0m\n\u001b[0;32m    863\u001b[0m \u001b[1;33m\u001b[0m\u001b[0m\n",
            "\u001b[1;32m~\\anaconda3\\lib\\site-packages\\joblib\\parallel.py\u001b[0m in \u001b[0;36m_dispatch\u001b[1;34m(self, batch)\u001b[0m\n\u001b[0;32m    777\u001b[0m         \u001b[1;32mwith\u001b[0m \u001b[0mself\u001b[0m\u001b[1;33m.\u001b[0m\u001b[0m_lock\u001b[0m\u001b[1;33m:\u001b[0m\u001b[1;33m\u001b[0m\u001b[1;33m\u001b[0m\u001b[0m\n\u001b[0;32m    778\u001b[0m             \u001b[0mjob_idx\u001b[0m \u001b[1;33m=\u001b[0m \u001b[0mlen\u001b[0m\u001b[1;33m(\u001b[0m\u001b[0mself\u001b[0m\u001b[1;33m.\u001b[0m\u001b[0m_jobs\u001b[0m\u001b[1;33m)\u001b[0m\u001b[1;33m\u001b[0m\u001b[1;33m\u001b[0m\u001b[0m\n\u001b[1;32m--> 779\u001b[1;33m             \u001b[0mjob\u001b[0m \u001b[1;33m=\u001b[0m \u001b[0mself\u001b[0m\u001b[1;33m.\u001b[0m\u001b[0m_backend\u001b[0m\u001b[1;33m.\u001b[0m\u001b[0mapply_async\u001b[0m\u001b[1;33m(\u001b[0m\u001b[0mbatch\u001b[0m\u001b[1;33m,\u001b[0m \u001b[0mcallback\u001b[0m\u001b[1;33m=\u001b[0m\u001b[0mcb\u001b[0m\u001b[1;33m)\u001b[0m\u001b[1;33m\u001b[0m\u001b[1;33m\u001b[0m\u001b[0m\n\u001b[0m\u001b[0;32m    780\u001b[0m             \u001b[1;31m# A job can complete so quickly than its callback is\u001b[0m\u001b[1;33m\u001b[0m\u001b[1;33m\u001b[0m\u001b[0m\n\u001b[0;32m    781\u001b[0m             \u001b[1;31m# called before we get here, causing self._jobs to\u001b[0m\u001b[1;33m\u001b[0m\u001b[1;33m\u001b[0m\u001b[0m\n",
            "\u001b[1;32m~\\anaconda3\\lib\\site-packages\\joblib\\_parallel_backends.py\u001b[0m in \u001b[0;36mapply_async\u001b[1;34m(self, func, callback)\u001b[0m\n\u001b[0;32m    206\u001b[0m     \u001b[1;32mdef\u001b[0m \u001b[0mapply_async\u001b[0m\u001b[1;33m(\u001b[0m\u001b[0mself\u001b[0m\u001b[1;33m,\u001b[0m \u001b[0mfunc\u001b[0m\u001b[1;33m,\u001b[0m \u001b[0mcallback\u001b[0m\u001b[1;33m=\u001b[0m\u001b[1;32mNone\u001b[0m\u001b[1;33m)\u001b[0m\u001b[1;33m:\u001b[0m\u001b[1;33m\u001b[0m\u001b[1;33m\u001b[0m\u001b[0m\n\u001b[0;32m    207\u001b[0m         \u001b[1;34m\"\"\"Schedule a func to be run\"\"\"\u001b[0m\u001b[1;33m\u001b[0m\u001b[1;33m\u001b[0m\u001b[0m\n\u001b[1;32m--> 208\u001b[1;33m         \u001b[0mresult\u001b[0m \u001b[1;33m=\u001b[0m \u001b[0mImmediateResult\u001b[0m\u001b[1;33m(\u001b[0m\u001b[0mfunc\u001b[0m\u001b[1;33m)\u001b[0m\u001b[1;33m\u001b[0m\u001b[1;33m\u001b[0m\u001b[0m\n\u001b[0m\u001b[0;32m    209\u001b[0m         \u001b[1;32mif\u001b[0m \u001b[0mcallback\u001b[0m\u001b[1;33m:\u001b[0m\u001b[1;33m\u001b[0m\u001b[1;33m\u001b[0m\u001b[0m\n\u001b[0;32m    210\u001b[0m             \u001b[0mcallback\u001b[0m\u001b[1;33m(\u001b[0m\u001b[0mresult\u001b[0m\u001b[1;33m)\u001b[0m\u001b[1;33m\u001b[0m\u001b[1;33m\u001b[0m\u001b[0m\n",
            "\u001b[1;32m~\\anaconda3\\lib\\site-packages\\joblib\\_parallel_backends.py\u001b[0m in \u001b[0;36m__init__\u001b[1;34m(self, batch)\u001b[0m\n\u001b[0;32m    570\u001b[0m         \u001b[1;31m# Don't delay the application, to avoid keeping the input\u001b[0m\u001b[1;33m\u001b[0m\u001b[1;33m\u001b[0m\u001b[0m\n\u001b[0;32m    571\u001b[0m         \u001b[1;31m# arguments in memory\u001b[0m\u001b[1;33m\u001b[0m\u001b[1;33m\u001b[0m\u001b[0m\n\u001b[1;32m--> 572\u001b[1;33m         \u001b[0mself\u001b[0m\u001b[1;33m.\u001b[0m\u001b[0mresults\u001b[0m \u001b[1;33m=\u001b[0m \u001b[0mbatch\u001b[0m\u001b[1;33m(\u001b[0m\u001b[1;33m)\u001b[0m\u001b[1;33m\u001b[0m\u001b[1;33m\u001b[0m\u001b[0m\n\u001b[0m\u001b[0;32m    573\u001b[0m \u001b[1;33m\u001b[0m\u001b[0m\n\u001b[0;32m    574\u001b[0m     \u001b[1;32mdef\u001b[0m \u001b[0mget\u001b[0m\u001b[1;33m(\u001b[0m\u001b[0mself\u001b[0m\u001b[1;33m)\u001b[0m\u001b[1;33m:\u001b[0m\u001b[1;33m\u001b[0m\u001b[1;33m\u001b[0m\u001b[0m\n",
            "\u001b[1;32m~\\anaconda3\\lib\\site-packages\\joblib\\parallel.py\u001b[0m in \u001b[0;36m__call__\u001b[1;34m(self)\u001b[0m\n\u001b[0;32m    260\u001b[0m         \u001b[1;31m# change the default number of processes to -1\u001b[0m\u001b[1;33m\u001b[0m\u001b[1;33m\u001b[0m\u001b[0m\n\u001b[0;32m    261\u001b[0m         \u001b[1;32mwith\u001b[0m \u001b[0mparallel_backend\u001b[0m\u001b[1;33m(\u001b[0m\u001b[0mself\u001b[0m\u001b[1;33m.\u001b[0m\u001b[0m_backend\u001b[0m\u001b[1;33m,\u001b[0m \u001b[0mn_jobs\u001b[0m\u001b[1;33m=\u001b[0m\u001b[0mself\u001b[0m\u001b[1;33m.\u001b[0m\u001b[0m_n_jobs\u001b[0m\u001b[1;33m)\u001b[0m\u001b[1;33m:\u001b[0m\u001b[1;33m\u001b[0m\u001b[1;33m\u001b[0m\u001b[0m\n\u001b[1;32m--> 262\u001b[1;33m             return [func(*args, **kwargs)\n\u001b[0m\u001b[0;32m    263\u001b[0m                     for func, args, kwargs in self.items]\n\u001b[0;32m    264\u001b[0m \u001b[1;33m\u001b[0m\u001b[0m\n",
            "\u001b[1;32m~\\anaconda3\\lib\\site-packages\\joblib\\parallel.py\u001b[0m in \u001b[0;36m<listcomp>\u001b[1;34m(.0)\u001b[0m\n\u001b[0;32m    260\u001b[0m         \u001b[1;31m# change the default number of processes to -1\u001b[0m\u001b[1;33m\u001b[0m\u001b[1;33m\u001b[0m\u001b[0m\n\u001b[0;32m    261\u001b[0m         \u001b[1;32mwith\u001b[0m \u001b[0mparallel_backend\u001b[0m\u001b[1;33m(\u001b[0m\u001b[0mself\u001b[0m\u001b[1;33m.\u001b[0m\u001b[0m_backend\u001b[0m\u001b[1;33m,\u001b[0m \u001b[0mn_jobs\u001b[0m\u001b[1;33m=\u001b[0m\u001b[0mself\u001b[0m\u001b[1;33m.\u001b[0m\u001b[0m_n_jobs\u001b[0m\u001b[1;33m)\u001b[0m\u001b[1;33m:\u001b[0m\u001b[1;33m\u001b[0m\u001b[1;33m\u001b[0m\u001b[0m\n\u001b[1;32m--> 262\u001b[1;33m             return [func(*args, **kwargs)\n\u001b[0m\u001b[0;32m    263\u001b[0m                     for func, args, kwargs in self.items]\n\u001b[0;32m    264\u001b[0m \u001b[1;33m\u001b[0m\u001b[0m\n",
            "\u001b[1;32m~\\anaconda3\\lib\\site-packages\\sklearn\\utils\\fixes.py\u001b[0m in \u001b[0;36m__call__\u001b[1;34m(self, *args, **kwargs)\u001b[0m\n\u001b[0;32m    115\u001b[0m     \u001b[1;32mdef\u001b[0m \u001b[0m__call__\u001b[0m\u001b[1;33m(\u001b[0m\u001b[0mself\u001b[0m\u001b[1;33m,\u001b[0m \u001b[1;33m*\u001b[0m\u001b[0margs\u001b[0m\u001b[1;33m,\u001b[0m \u001b[1;33m**\u001b[0m\u001b[0mkwargs\u001b[0m\u001b[1;33m)\u001b[0m\u001b[1;33m:\u001b[0m\u001b[1;33m\u001b[0m\u001b[1;33m\u001b[0m\u001b[0m\n\u001b[0;32m    116\u001b[0m         \u001b[1;32mwith\u001b[0m \u001b[0mconfig_context\u001b[0m\u001b[1;33m(\u001b[0m\u001b[1;33m**\u001b[0m\u001b[0mself\u001b[0m\u001b[1;33m.\u001b[0m\u001b[0mconfig\u001b[0m\u001b[1;33m)\u001b[0m\u001b[1;33m:\u001b[0m\u001b[1;33m\u001b[0m\u001b[1;33m\u001b[0m\u001b[0m\n\u001b[1;32m--> 117\u001b[1;33m             \u001b[1;32mreturn\u001b[0m \u001b[0mself\u001b[0m\u001b[1;33m.\u001b[0m\u001b[0mfunction\u001b[0m\u001b[1;33m(\u001b[0m\u001b[1;33m*\u001b[0m\u001b[0margs\u001b[0m\u001b[1;33m,\u001b[0m \u001b[1;33m**\u001b[0m\u001b[0mkwargs\u001b[0m\u001b[1;33m)\u001b[0m\u001b[1;33m\u001b[0m\u001b[1;33m\u001b[0m\u001b[0m\n\u001b[0m\u001b[0;32m    118\u001b[0m \u001b[1;33m\u001b[0m\u001b[0m\n\u001b[0;32m    119\u001b[0m \u001b[1;33m\u001b[0m\u001b[0m\n",
            "\u001b[1;32m~\\anaconda3\\lib\\site-packages\\sklearn\\model_selection\\_validation.py\u001b[0m in \u001b[0;36m_fit_and_score\u001b[1;34m(estimator, X, y, scorer, train, test, verbose, parameters, fit_params, return_train_score, return_parameters, return_n_test_samples, return_times, return_estimator, split_progress, candidate_progress, error_score)\u001b[0m\n\u001b[0;32m    684\u001b[0m             \u001b[0mestimator\u001b[0m\u001b[1;33m.\u001b[0m\u001b[0mfit\u001b[0m\u001b[1;33m(\u001b[0m\u001b[0mX_train\u001b[0m\u001b[1;33m,\u001b[0m \u001b[1;33m**\u001b[0m\u001b[0mfit_params\u001b[0m\u001b[1;33m)\u001b[0m\u001b[1;33m\u001b[0m\u001b[1;33m\u001b[0m\u001b[0m\n\u001b[0;32m    685\u001b[0m         \u001b[1;32melse\u001b[0m\u001b[1;33m:\u001b[0m\u001b[1;33m\u001b[0m\u001b[1;33m\u001b[0m\u001b[0m\n\u001b[1;32m--> 686\u001b[1;33m             \u001b[0mestimator\u001b[0m\u001b[1;33m.\u001b[0m\u001b[0mfit\u001b[0m\u001b[1;33m(\u001b[0m\u001b[0mX_train\u001b[0m\u001b[1;33m,\u001b[0m \u001b[0my_train\u001b[0m\u001b[1;33m,\u001b[0m \u001b[1;33m**\u001b[0m\u001b[0mfit_params\u001b[0m\u001b[1;33m)\u001b[0m\u001b[1;33m\u001b[0m\u001b[1;33m\u001b[0m\u001b[0m\n\u001b[0m\u001b[0;32m    687\u001b[0m \u001b[1;33m\u001b[0m\u001b[0m\n\u001b[0;32m    688\u001b[0m     \u001b[1;32mexcept\u001b[0m \u001b[0mException\u001b[0m\u001b[1;33m:\u001b[0m\u001b[1;33m\u001b[0m\u001b[1;33m\u001b[0m\u001b[0m\n",
            "\u001b[1;32m~\\anaconda3\\lib\\site-packages\\sklearn\\ensemble\\_forest.py\u001b[0m in \u001b[0;36mfit\u001b[1;34m(self, X, y, sample_weight)\u001b[0m\n\u001b[0;32m    474\u001b[0m             \u001b[1;31m# parallel_backend contexts set at a higher level,\u001b[0m\u001b[1;33m\u001b[0m\u001b[1;33m\u001b[0m\u001b[0m\n\u001b[0;32m    475\u001b[0m             \u001b[1;31m# since correctness does not rely on using threads.\u001b[0m\u001b[1;33m\u001b[0m\u001b[1;33m\u001b[0m\u001b[0m\n\u001b[1;32m--> 476\u001b[1;33m             trees = Parallel(\n\u001b[0m\u001b[0;32m    477\u001b[0m                 \u001b[0mn_jobs\u001b[0m\u001b[1;33m=\u001b[0m\u001b[0mself\u001b[0m\u001b[1;33m.\u001b[0m\u001b[0mn_jobs\u001b[0m\u001b[1;33m,\u001b[0m\u001b[1;33m\u001b[0m\u001b[1;33m\u001b[0m\u001b[0m\n\u001b[0;32m    478\u001b[0m                 \u001b[0mverbose\u001b[0m\u001b[1;33m=\u001b[0m\u001b[0mself\u001b[0m\u001b[1;33m.\u001b[0m\u001b[0mverbose\u001b[0m\u001b[1;33m,\u001b[0m\u001b[1;33m\u001b[0m\u001b[1;33m\u001b[0m\u001b[0m\n",
            "\u001b[1;32m~\\anaconda3\\lib\\site-packages\\joblib\\parallel.py\u001b[0m in \u001b[0;36m__call__\u001b[1;34m(self, iterable)\u001b[0m\n\u001b[0;32m   1044\u001b[0m                 \u001b[0mself\u001b[0m\u001b[1;33m.\u001b[0m\u001b[0m_iterating\u001b[0m \u001b[1;33m=\u001b[0m \u001b[0mself\u001b[0m\u001b[1;33m.\u001b[0m\u001b[0m_original_iterator\u001b[0m \u001b[1;32mis\u001b[0m \u001b[1;32mnot\u001b[0m \u001b[1;32mNone\u001b[0m\u001b[1;33m\u001b[0m\u001b[1;33m\u001b[0m\u001b[0m\n\u001b[0;32m   1045\u001b[0m \u001b[1;33m\u001b[0m\u001b[0m\n\u001b[1;32m-> 1046\u001b[1;33m             \u001b[1;32mwhile\u001b[0m \u001b[0mself\u001b[0m\u001b[1;33m.\u001b[0m\u001b[0mdispatch_one_batch\u001b[0m\u001b[1;33m(\u001b[0m\u001b[0miterator\u001b[0m\u001b[1;33m)\u001b[0m\u001b[1;33m:\u001b[0m\u001b[1;33m\u001b[0m\u001b[1;33m\u001b[0m\u001b[0m\n\u001b[0m\u001b[0;32m   1047\u001b[0m                 \u001b[1;32mpass\u001b[0m\u001b[1;33m\u001b[0m\u001b[1;33m\u001b[0m\u001b[0m\n\u001b[0;32m   1048\u001b[0m \u001b[1;33m\u001b[0m\u001b[0m\n",
            "\u001b[1;32m~\\anaconda3\\lib\\site-packages\\joblib\\parallel.py\u001b[0m in \u001b[0;36mdispatch_one_batch\u001b[1;34m(self, iterator)\u001b[0m\n\u001b[0;32m    859\u001b[0m                 \u001b[1;32mreturn\u001b[0m \u001b[1;32mFalse\u001b[0m\u001b[1;33m\u001b[0m\u001b[1;33m\u001b[0m\u001b[0m\n\u001b[0;32m    860\u001b[0m             \u001b[1;32melse\u001b[0m\u001b[1;33m:\u001b[0m\u001b[1;33m\u001b[0m\u001b[1;33m\u001b[0m\u001b[0m\n\u001b[1;32m--> 861\u001b[1;33m                 \u001b[0mself\u001b[0m\u001b[1;33m.\u001b[0m\u001b[0m_dispatch\u001b[0m\u001b[1;33m(\u001b[0m\u001b[0mtasks\u001b[0m\u001b[1;33m)\u001b[0m\u001b[1;33m\u001b[0m\u001b[1;33m\u001b[0m\u001b[0m\n\u001b[0m\u001b[0;32m    862\u001b[0m                 \u001b[1;32mreturn\u001b[0m \u001b[1;32mTrue\u001b[0m\u001b[1;33m\u001b[0m\u001b[1;33m\u001b[0m\u001b[0m\n\u001b[0;32m    863\u001b[0m \u001b[1;33m\u001b[0m\u001b[0m\n",
            "\u001b[1;32m~\\anaconda3\\lib\\site-packages\\joblib\\parallel.py\u001b[0m in \u001b[0;36m_dispatch\u001b[1;34m(self, batch)\u001b[0m\n\u001b[0;32m    777\u001b[0m         \u001b[1;32mwith\u001b[0m \u001b[0mself\u001b[0m\u001b[1;33m.\u001b[0m\u001b[0m_lock\u001b[0m\u001b[1;33m:\u001b[0m\u001b[1;33m\u001b[0m\u001b[1;33m\u001b[0m\u001b[0m\n\u001b[0;32m    778\u001b[0m             \u001b[0mjob_idx\u001b[0m \u001b[1;33m=\u001b[0m \u001b[0mlen\u001b[0m\u001b[1;33m(\u001b[0m\u001b[0mself\u001b[0m\u001b[1;33m.\u001b[0m\u001b[0m_jobs\u001b[0m\u001b[1;33m)\u001b[0m\u001b[1;33m\u001b[0m\u001b[1;33m\u001b[0m\u001b[0m\n\u001b[1;32m--> 779\u001b[1;33m             \u001b[0mjob\u001b[0m \u001b[1;33m=\u001b[0m \u001b[0mself\u001b[0m\u001b[1;33m.\u001b[0m\u001b[0m_backend\u001b[0m\u001b[1;33m.\u001b[0m\u001b[0mapply_async\u001b[0m\u001b[1;33m(\u001b[0m\u001b[0mbatch\u001b[0m\u001b[1;33m,\u001b[0m \u001b[0mcallback\u001b[0m\u001b[1;33m=\u001b[0m\u001b[0mcb\u001b[0m\u001b[1;33m)\u001b[0m\u001b[1;33m\u001b[0m\u001b[1;33m\u001b[0m\u001b[0m\n\u001b[0m\u001b[0;32m    780\u001b[0m             \u001b[1;31m# A job can complete so quickly than its callback is\u001b[0m\u001b[1;33m\u001b[0m\u001b[1;33m\u001b[0m\u001b[0m\n\u001b[0;32m    781\u001b[0m             \u001b[1;31m# called before we get here, causing self._jobs to\u001b[0m\u001b[1;33m\u001b[0m\u001b[1;33m\u001b[0m\u001b[0m\n",
            "\u001b[1;32m~\\anaconda3\\lib\\site-packages\\joblib\\_parallel_backends.py\u001b[0m in \u001b[0;36mapply_async\u001b[1;34m(self, func, callback)\u001b[0m\n\u001b[0;32m    206\u001b[0m     \u001b[1;32mdef\u001b[0m \u001b[0mapply_async\u001b[0m\u001b[1;33m(\u001b[0m\u001b[0mself\u001b[0m\u001b[1;33m,\u001b[0m \u001b[0mfunc\u001b[0m\u001b[1;33m,\u001b[0m \u001b[0mcallback\u001b[0m\u001b[1;33m=\u001b[0m\u001b[1;32mNone\u001b[0m\u001b[1;33m)\u001b[0m\u001b[1;33m:\u001b[0m\u001b[1;33m\u001b[0m\u001b[1;33m\u001b[0m\u001b[0m\n\u001b[0;32m    207\u001b[0m         \u001b[1;34m\"\"\"Schedule a func to be run\"\"\"\u001b[0m\u001b[1;33m\u001b[0m\u001b[1;33m\u001b[0m\u001b[0m\n\u001b[1;32m--> 208\u001b[1;33m         \u001b[0mresult\u001b[0m \u001b[1;33m=\u001b[0m \u001b[0mImmediateResult\u001b[0m\u001b[1;33m(\u001b[0m\u001b[0mfunc\u001b[0m\u001b[1;33m)\u001b[0m\u001b[1;33m\u001b[0m\u001b[1;33m\u001b[0m\u001b[0m\n\u001b[0m\u001b[0;32m    209\u001b[0m         \u001b[1;32mif\u001b[0m \u001b[0mcallback\u001b[0m\u001b[1;33m:\u001b[0m\u001b[1;33m\u001b[0m\u001b[1;33m\u001b[0m\u001b[0m\n\u001b[0;32m    210\u001b[0m             \u001b[0mcallback\u001b[0m\u001b[1;33m(\u001b[0m\u001b[0mresult\u001b[0m\u001b[1;33m)\u001b[0m\u001b[1;33m\u001b[0m\u001b[1;33m\u001b[0m\u001b[0m\n",
            "\u001b[1;32m~\\anaconda3\\lib\\site-packages\\joblib\\_parallel_backends.py\u001b[0m in \u001b[0;36m__init__\u001b[1;34m(self, batch)\u001b[0m\n\u001b[0;32m    570\u001b[0m         \u001b[1;31m# Don't delay the application, to avoid keeping the input\u001b[0m\u001b[1;33m\u001b[0m\u001b[1;33m\u001b[0m\u001b[0m\n\u001b[0;32m    571\u001b[0m         \u001b[1;31m# arguments in memory\u001b[0m\u001b[1;33m\u001b[0m\u001b[1;33m\u001b[0m\u001b[0m\n\u001b[1;32m--> 572\u001b[1;33m         \u001b[0mself\u001b[0m\u001b[1;33m.\u001b[0m\u001b[0mresults\u001b[0m \u001b[1;33m=\u001b[0m \u001b[0mbatch\u001b[0m\u001b[1;33m(\u001b[0m\u001b[1;33m)\u001b[0m\u001b[1;33m\u001b[0m\u001b[1;33m\u001b[0m\u001b[0m\n\u001b[0m\u001b[0;32m    573\u001b[0m \u001b[1;33m\u001b[0m\u001b[0m\n\u001b[0;32m    574\u001b[0m     \u001b[1;32mdef\u001b[0m \u001b[0mget\u001b[0m\u001b[1;33m(\u001b[0m\u001b[0mself\u001b[0m\u001b[1;33m)\u001b[0m\u001b[1;33m:\u001b[0m\u001b[1;33m\u001b[0m\u001b[1;33m\u001b[0m\u001b[0m\n",
            "\u001b[1;32m~\\anaconda3\\lib\\site-packages\\joblib\\parallel.py\u001b[0m in \u001b[0;36m__call__\u001b[1;34m(self)\u001b[0m\n\u001b[0;32m    260\u001b[0m         \u001b[1;31m# change the default number of processes to -1\u001b[0m\u001b[1;33m\u001b[0m\u001b[1;33m\u001b[0m\u001b[0m\n\u001b[0;32m    261\u001b[0m         \u001b[1;32mwith\u001b[0m \u001b[0mparallel_backend\u001b[0m\u001b[1;33m(\u001b[0m\u001b[0mself\u001b[0m\u001b[1;33m.\u001b[0m\u001b[0m_backend\u001b[0m\u001b[1;33m,\u001b[0m \u001b[0mn_jobs\u001b[0m\u001b[1;33m=\u001b[0m\u001b[0mself\u001b[0m\u001b[1;33m.\u001b[0m\u001b[0m_n_jobs\u001b[0m\u001b[1;33m)\u001b[0m\u001b[1;33m:\u001b[0m\u001b[1;33m\u001b[0m\u001b[1;33m\u001b[0m\u001b[0m\n\u001b[1;32m--> 262\u001b[1;33m             return [func(*args, **kwargs)\n\u001b[0m\u001b[0;32m    263\u001b[0m                     for func, args, kwargs in self.items]\n\u001b[0;32m    264\u001b[0m \u001b[1;33m\u001b[0m\u001b[0m\n",
            "\u001b[1;32m~\\anaconda3\\lib\\site-packages\\joblib\\parallel.py\u001b[0m in \u001b[0;36m<listcomp>\u001b[1;34m(.0)\u001b[0m\n\u001b[0;32m    260\u001b[0m         \u001b[1;31m# change the default number of processes to -1\u001b[0m\u001b[1;33m\u001b[0m\u001b[1;33m\u001b[0m\u001b[0m\n\u001b[0;32m    261\u001b[0m         \u001b[1;32mwith\u001b[0m \u001b[0mparallel_backend\u001b[0m\u001b[1;33m(\u001b[0m\u001b[0mself\u001b[0m\u001b[1;33m.\u001b[0m\u001b[0m_backend\u001b[0m\u001b[1;33m,\u001b[0m \u001b[0mn_jobs\u001b[0m\u001b[1;33m=\u001b[0m\u001b[0mself\u001b[0m\u001b[1;33m.\u001b[0m\u001b[0m_n_jobs\u001b[0m\u001b[1;33m)\u001b[0m\u001b[1;33m:\u001b[0m\u001b[1;33m\u001b[0m\u001b[1;33m\u001b[0m\u001b[0m\n\u001b[1;32m--> 262\u001b[1;33m             return [func(*args, **kwargs)\n\u001b[0m\u001b[0;32m    263\u001b[0m                     for func, args, kwargs in self.items]\n\u001b[0;32m    264\u001b[0m \u001b[1;33m\u001b[0m\u001b[0m\n",
            "\u001b[1;32m~\\anaconda3\\lib\\site-packages\\sklearn\\utils\\fixes.py\u001b[0m in \u001b[0;36m__call__\u001b[1;34m(self, *args, **kwargs)\u001b[0m\n\u001b[0;32m    115\u001b[0m     \u001b[1;32mdef\u001b[0m \u001b[0m__call__\u001b[0m\u001b[1;33m(\u001b[0m\u001b[0mself\u001b[0m\u001b[1;33m,\u001b[0m \u001b[1;33m*\u001b[0m\u001b[0margs\u001b[0m\u001b[1;33m,\u001b[0m \u001b[1;33m**\u001b[0m\u001b[0mkwargs\u001b[0m\u001b[1;33m)\u001b[0m\u001b[1;33m:\u001b[0m\u001b[1;33m\u001b[0m\u001b[1;33m\u001b[0m\u001b[0m\n\u001b[0;32m    116\u001b[0m         \u001b[1;32mwith\u001b[0m \u001b[0mconfig_context\u001b[0m\u001b[1;33m(\u001b[0m\u001b[1;33m**\u001b[0m\u001b[0mself\u001b[0m\u001b[1;33m.\u001b[0m\u001b[0mconfig\u001b[0m\u001b[1;33m)\u001b[0m\u001b[1;33m:\u001b[0m\u001b[1;33m\u001b[0m\u001b[1;33m\u001b[0m\u001b[0m\n\u001b[1;32m--> 117\u001b[1;33m             \u001b[1;32mreturn\u001b[0m \u001b[0mself\u001b[0m\u001b[1;33m.\u001b[0m\u001b[0mfunction\u001b[0m\u001b[1;33m(\u001b[0m\u001b[1;33m*\u001b[0m\u001b[0margs\u001b[0m\u001b[1;33m,\u001b[0m \u001b[1;33m**\u001b[0m\u001b[0mkwargs\u001b[0m\u001b[1;33m)\u001b[0m\u001b[1;33m\u001b[0m\u001b[1;33m\u001b[0m\u001b[0m\n\u001b[0m\u001b[0;32m    118\u001b[0m \u001b[1;33m\u001b[0m\u001b[0m\n\u001b[0;32m    119\u001b[0m \u001b[1;33m\u001b[0m\u001b[0m\n",
            "\u001b[1;32m~\\anaconda3\\lib\\site-packages\\sklearn\\ensemble\\_forest.py\u001b[0m in \u001b[0;36m_parallel_build_trees\u001b[1;34m(tree, bootstrap, X, y, sample_weight, tree_idx, n_trees, verbose, class_weight, n_samples_bootstrap)\u001b[0m\n\u001b[0;32m    189\u001b[0m         \u001b[0mtree\u001b[0m\u001b[1;33m.\u001b[0m\u001b[0mfit\u001b[0m\u001b[1;33m(\u001b[0m\u001b[0mX\u001b[0m\u001b[1;33m,\u001b[0m \u001b[0my\u001b[0m\u001b[1;33m,\u001b[0m \u001b[0msample_weight\u001b[0m\u001b[1;33m=\u001b[0m\u001b[0mcurr_sample_weight\u001b[0m\u001b[1;33m,\u001b[0m \u001b[0mcheck_input\u001b[0m\u001b[1;33m=\u001b[0m\u001b[1;32mFalse\u001b[0m\u001b[1;33m)\u001b[0m\u001b[1;33m\u001b[0m\u001b[1;33m\u001b[0m\u001b[0m\n\u001b[0;32m    190\u001b[0m     \u001b[1;32melse\u001b[0m\u001b[1;33m:\u001b[0m\u001b[1;33m\u001b[0m\u001b[1;33m\u001b[0m\u001b[0m\n\u001b[1;32m--> 191\u001b[1;33m         \u001b[0mtree\u001b[0m\u001b[1;33m.\u001b[0m\u001b[0mfit\u001b[0m\u001b[1;33m(\u001b[0m\u001b[0mX\u001b[0m\u001b[1;33m,\u001b[0m \u001b[0my\u001b[0m\u001b[1;33m,\u001b[0m \u001b[0msample_weight\u001b[0m\u001b[1;33m=\u001b[0m\u001b[0msample_weight\u001b[0m\u001b[1;33m,\u001b[0m \u001b[0mcheck_input\u001b[0m\u001b[1;33m=\u001b[0m\u001b[1;32mFalse\u001b[0m\u001b[1;33m)\u001b[0m\u001b[1;33m\u001b[0m\u001b[1;33m\u001b[0m\u001b[0m\n\u001b[0m\u001b[0;32m    192\u001b[0m \u001b[1;33m\u001b[0m\u001b[0m\n\u001b[0;32m    193\u001b[0m     \u001b[1;32mreturn\u001b[0m \u001b[0mtree\u001b[0m\u001b[1;33m\u001b[0m\u001b[1;33m\u001b[0m\u001b[0m\n",
            "\u001b[1;32m~\\anaconda3\\lib\\site-packages\\sklearn\\tree\\_classes.py\u001b[0m in \u001b[0;36mfit\u001b[1;34m(self, X, y, sample_weight, check_input)\u001b[0m\n\u001b[0;32m   1340\u001b[0m         \"\"\"\n\u001b[0;32m   1341\u001b[0m \u001b[1;33m\u001b[0m\u001b[0m\n\u001b[1;32m-> 1342\u001b[1;33m         super().fit(\n\u001b[0m\u001b[0;32m   1343\u001b[0m             \u001b[0mX\u001b[0m\u001b[1;33m,\u001b[0m\u001b[1;33m\u001b[0m\u001b[1;33m\u001b[0m\u001b[0m\n\u001b[0;32m   1344\u001b[0m             \u001b[0my\u001b[0m\u001b[1;33m,\u001b[0m\u001b[1;33m\u001b[0m\u001b[1;33m\u001b[0m\u001b[0m\n",
            "\u001b[1;32m~\\anaconda3\\lib\\site-packages\\sklearn\\tree\\_classes.py\u001b[0m in \u001b[0;36mfit\u001b[1;34m(self, X, y, sample_weight, check_input)\u001b[0m\n\u001b[0;32m    456\u001b[0m             )\n\u001b[0;32m    457\u001b[0m \u001b[1;33m\u001b[0m\u001b[0m\n\u001b[1;32m--> 458\u001b[1;33m         \u001b[0mbuilder\u001b[0m\u001b[1;33m.\u001b[0m\u001b[0mbuild\u001b[0m\u001b[1;33m(\u001b[0m\u001b[0mself\u001b[0m\u001b[1;33m.\u001b[0m\u001b[0mtree_\u001b[0m\u001b[1;33m,\u001b[0m \u001b[0mX\u001b[0m\u001b[1;33m,\u001b[0m \u001b[0my\u001b[0m\u001b[1;33m,\u001b[0m \u001b[0msample_weight\u001b[0m\u001b[1;33m)\u001b[0m\u001b[1;33m\u001b[0m\u001b[1;33m\u001b[0m\u001b[0m\n\u001b[0m\u001b[0;32m    459\u001b[0m \u001b[1;33m\u001b[0m\u001b[0m\n\u001b[0;32m    460\u001b[0m         \u001b[1;32mif\u001b[0m \u001b[0mself\u001b[0m\u001b[1;33m.\u001b[0m\u001b[0mn_outputs_\u001b[0m \u001b[1;33m==\u001b[0m \u001b[1;36m1\u001b[0m \u001b[1;32mand\u001b[0m \u001b[0mis_classifier\u001b[0m\u001b[1;33m(\u001b[0m\u001b[0mself\u001b[0m\u001b[1;33m)\u001b[0m\u001b[1;33m:\u001b[0m\u001b[1;33m\u001b[0m\u001b[1;33m\u001b[0m\u001b[0m\n",
            "\u001b[1;31mKeyboardInterrupt\u001b[0m: "
          ]
        }
      ],
      "source": [
        "from sklearn.ensemble import ExtraTreesRegressor\n",
        "from sklearn.model_selection import GridSearchCV\n",
        "\n",
        "model_extra_re = ExtraTreesRegressor(n_estimators=100, min_samples_split = 25, min_samples_leaf = 35, max_features=150)\n",
        "\n",
        "gsc = GridSearchCV(\n",
        "    estimator=model_extra_re,\n",
        "    param_grid = {\n",
        "        'n_estimators' : range(50, 126, 25),\n",
        "        'max_features' : range(50, 401, 50),\n",
        "        'min_samples_leaf' : range(20, 50, 5),\n",
        "        'min_samples_split' : range(15, 36, 5)\n",
        "    },\n",
        "    scoring='r2',\n",
        "    cv = 5\n",
        ")\n",
        "\n",
        "\n",
        "grid_result = gsc.fit(X_train_temp, y_train_temp)\n",
        "\n",
        "print('Best: %f using %s' % (grid_result.best_score_, grid_result.best_params_))\n",
        "\n",
        "model_extra_re_final = ExtraTreesRegressor(**grid_result.best_params_)\n",
        "model_extra_re_final.fit(X_train_temp, y_train_temp)\n",
        "\n",
        "predict = model_extra_re_final.predict(X_test_temp)\n",
        "auc_score = roc_auc_score(predict, y_test_temp)"
      ]
    },
    {
      "cell_type": "code",
      "execution_count": null,
      "id": "0b1fe7f5",
      "metadata": {
        "id": "0b1fe7f5"
      },
      "outputs": [],
      "source": [
        "print('GridSearch Tuning: ',auc_score)"
      ]
    },
    {
      "cell_type": "code",
      "execution_count": null,
      "id": "768f1bb9",
      "metadata": {
        "id": "768f1bb9"
      },
      "outputs": [],
      "source": []
    }
  ],
  "metadata": {
    "kernelspec": {
      "display_name": "Python 3 (ipykernel)",
      "language": "python",
      "name": "python3"
    },
    "language_info": {
      "codemirror_mode": {
        "name": "ipython",
        "version": 3
      },
      "file_extension": ".py",
      "mimetype": "text/x-python",
      "name": "python",
      "nbconvert_exporter": "python",
      "pygments_lexer": "ipython3",
      "version": "3.9.7"
    },
    "colab": {
      "provenance": [],
      "include_colab_link": true
    }
  },
  "nbformat": 4,
  "nbformat_minor": 5
}